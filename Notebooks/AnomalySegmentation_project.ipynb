{
  "cells": [
    {
      "cell_type": "markdown",
      "metadata": {
        "id": "two-_L7ZFiGc"
      },
      "source": [
        "## **Preparation**\n",
        "Clone our repository (https://github.com/m-depascale/AnomalySegmentation_AML/tree/main)"
      ]
    },
    {
      "cell_type": "code",
      "execution_count": null,
      "metadata": {
        "colab": {
          "base_uri": "https://localhost:8080/"
        },
        "collapsed": true,
        "id": "-h39sy2v5xdQ",
        "outputId": "3173bfd0-2424-4f70-c2e8-e053d5025c9a"
      },
      "outputs": [
        {
          "output_type": "stream",
          "name": "stdout",
          "text": [
            "/content\n",
            "fatal: destination path 'AnomalySegmentation_AML' already exists and is not an empty directory.\n"
          ]
        }
      ],
      "source": [
        "%cd /content/\n",
        "!git clone https://github.com/m-depascale/AnomalySegmentation_AML"
      ]
    },
    {
      "cell_type": "code",
      "source": [
        "%cd /content/AnomalySegmentation_AML/\n",
        "!git pull"
      ],
      "metadata": {
        "colab": {
          "base_uri": "https://localhost:8080/"
        },
        "id": "zbwjRfUmE42q",
        "outputId": "6a604482-4e15-4ef1-d08a-eded6ab43174"
      },
      "execution_count": null,
      "outputs": [
        {
          "output_type": "stream",
          "name": "stdout",
          "text": [
            "/content/AnomalySegmentation_AML\n",
            "Already up to date.\n"
          ]
        }
      ]
    },
    {
      "cell_type": "code",
      "execution_count": null,
      "metadata": {
        "colab": {
          "base_uri": "https://localhost:8080/"
        },
        "id": "CjKZCTV9lAxZ",
        "outputId": "8cf7e038-fa17-4693-8175-87e1235014c5"
      },
      "outputs": [
        {
          "output_type": "stream",
          "name": "stdout",
          "text": [
            "/content/AnomalySegmentation_AML/eval\n"
          ]
        }
      ],
      "source": [
        "%cd /content/AnomalySegmentation_AML/eval"
      ]
    },
    {
      "cell_type": "markdown",
      "metadata": {
        "id": "Pr7hDMx0FvYF"
      },
      "source": [
        "## Some necessary module and library"
      ]
    },
    {
      "cell_type": "code",
      "execution_count": null,
      "metadata": {
        "colab": {
          "base_uri": "https://localhost:8080/"
        },
        "id": "xDpUuj3PBGpR",
        "outputId": "3ee4a6e3-1df9-40af-ff96-346e7493265e"
      },
      "outputs": [
        {
          "output_type": "stream",
          "name": "stdout",
          "text": [
            "Collecting ood-metrics\n",
            "  Downloading ood_metrics-1.1.2-py3-none-any.whl (6.1 kB)\n",
            "Requirement already satisfied: matplotlib<4.0,>=3.0 in /usr/local/lib/python3.10/dist-packages (from ood-metrics) (3.7.1)\n",
            "Requirement already satisfied: numpy<2.0,>=1.22 in /usr/local/lib/python3.10/dist-packages (from ood-metrics) (1.25.2)\n",
            "Requirement already satisfied: scikit-learn<2.0,>=1.0 in /usr/local/lib/python3.10/dist-packages (from ood-metrics) (1.2.2)\n",
            "Requirement already satisfied: contourpy>=1.0.1 in /usr/local/lib/python3.10/dist-packages (from matplotlib<4.0,>=3.0->ood-metrics) (1.2.0)\n",
            "Requirement already satisfied: cycler>=0.10 in /usr/local/lib/python3.10/dist-packages (from matplotlib<4.0,>=3.0->ood-metrics) (0.12.1)\n",
            "Requirement already satisfied: fonttools>=4.22.0 in /usr/local/lib/python3.10/dist-packages (from matplotlib<4.0,>=3.0->ood-metrics) (4.48.1)\n",
            "Requirement already satisfied: kiwisolver>=1.0.1 in /usr/local/lib/python3.10/dist-packages (from matplotlib<4.0,>=3.0->ood-metrics) (1.4.5)\n",
            "Requirement already satisfied: packaging>=20.0 in /usr/local/lib/python3.10/dist-packages (from matplotlib<4.0,>=3.0->ood-metrics) (23.2)\n",
            "Requirement already satisfied: pillow>=6.2.0 in /usr/local/lib/python3.10/dist-packages (from matplotlib<4.0,>=3.0->ood-metrics) (9.4.0)\n",
            "Requirement already satisfied: pyparsing>=2.3.1 in /usr/local/lib/python3.10/dist-packages (from matplotlib<4.0,>=3.0->ood-metrics) (3.1.1)\n",
            "Requirement already satisfied: python-dateutil>=2.7 in /usr/local/lib/python3.10/dist-packages (from matplotlib<4.0,>=3.0->ood-metrics) (2.8.2)\n",
            "Requirement already satisfied: scipy>=1.3.2 in /usr/local/lib/python3.10/dist-packages (from scikit-learn<2.0,>=1.0->ood-metrics) (1.11.4)\n",
            "Requirement already satisfied: joblib>=1.1.1 in /usr/local/lib/python3.10/dist-packages (from scikit-learn<2.0,>=1.0->ood-metrics) (1.3.2)\n",
            "Requirement already satisfied: threadpoolctl>=2.0.0 in /usr/local/lib/python3.10/dist-packages (from scikit-learn<2.0,>=1.0->ood-metrics) (3.2.0)\n",
            "Requirement already satisfied: six>=1.5 in /usr/local/lib/python3.10/dist-packages (from python-dateutil>=2.7->matplotlib<4.0,>=3.0->ood-metrics) (1.16.0)\n",
            "Installing collected packages: ood-metrics\n",
            "Successfully installed ood-metrics-1.1.2\n",
            "Collecting visdom\n",
            "  Downloading visdom-0.2.4.tar.gz (1.4 MB)\n",
            "\u001b[2K     \u001b[90m━━━━━━━━━━━━━━━━━━━━━━━━━━━━━━━━━━━━━━━━\u001b[0m \u001b[32m1.4/1.4 MB\u001b[0m \u001b[31m11.9 MB/s\u001b[0m eta \u001b[36m0:00:00\u001b[0m\n",
            "\u001b[?25h  Preparing metadata (setup.py) ... \u001b[?25l\u001b[?25hdone\n",
            "Requirement already satisfied: numpy>=1.8 in /usr/local/lib/python3.10/dist-packages (from visdom) (1.25.2)\n",
            "Requirement already satisfied: scipy in /usr/local/lib/python3.10/dist-packages (from visdom) (1.11.4)\n",
            "Requirement already satisfied: requests in /usr/local/lib/python3.10/dist-packages (from visdom) (2.31.0)\n",
            "Requirement already satisfied: tornado in /usr/local/lib/python3.10/dist-packages (from visdom) (6.3.2)\n",
            "Requirement already satisfied: six in /usr/local/lib/python3.10/dist-packages (from visdom) (1.16.0)\n",
            "Collecting jsonpatch (from visdom)\n",
            "  Downloading jsonpatch-1.33-py2.py3-none-any.whl (12 kB)\n",
            "Requirement already satisfied: websocket-client in /usr/local/lib/python3.10/dist-packages (from visdom) (1.7.0)\n",
            "Requirement already satisfied: networkx in /usr/local/lib/python3.10/dist-packages (from visdom) (3.2.1)\n",
            "Requirement already satisfied: pillow in /usr/local/lib/python3.10/dist-packages (from visdom) (9.4.0)\n",
            "Collecting jsonpointer>=1.9 (from jsonpatch->visdom)\n",
            "  Downloading jsonpointer-2.4-py2.py3-none-any.whl (7.8 kB)\n",
            "Requirement already satisfied: charset-normalizer<4,>=2 in /usr/local/lib/python3.10/dist-packages (from requests->visdom) (3.3.2)\n",
            "Requirement already satisfied: idna<4,>=2.5 in /usr/local/lib/python3.10/dist-packages (from requests->visdom) (3.6)\n",
            "Requirement already satisfied: urllib3<3,>=1.21.1 in /usr/local/lib/python3.10/dist-packages (from requests->visdom) (2.0.7)\n",
            "Requirement already satisfied: certifi>=2017.4.17 in /usr/local/lib/python3.10/dist-packages (from requests->visdom) (2024.2.2)\n",
            "Building wheels for collected packages: visdom\n",
            "  Building wheel for visdom (setup.py) ... \u001b[?25l\u001b[?25hdone\n",
            "  Created wheel for visdom: filename=visdom-0.2.4-py3-none-any.whl size=1408194 sha256=53d0b6acbda0e84f51cdcdfa3d2a8d889c8ea734ad77546e697bfd3d1f07d4f3\n",
            "  Stored in directory: /root/.cache/pip/wheels/42/29/49/5bed207bac4578e4d2c0c5fc0226bfd33a7e2953ea56356855\n",
            "Successfully built visdom\n",
            "Installing collected packages: jsonpointer, jsonpatch, visdom\n",
            "Successfully installed jsonpatch-1.33 jsonpointer-2.4 visdom-0.2.4\n",
            "Requirement already satisfied: numpy in /usr/local/lib/python3.10/dist-packages (1.25.2)\n",
            "Requirement already satisfied: matplotlib in /usr/local/lib/python3.10/dist-packages (3.7.1)\n",
            "Requirement already satisfied: contourpy>=1.0.1 in /usr/local/lib/python3.10/dist-packages (from matplotlib) (1.2.0)\n",
            "Requirement already satisfied: cycler>=0.10 in /usr/local/lib/python3.10/dist-packages (from matplotlib) (0.12.1)\n",
            "Requirement already satisfied: fonttools>=4.22.0 in /usr/local/lib/python3.10/dist-packages (from matplotlib) (4.48.1)\n",
            "Requirement already satisfied: kiwisolver>=1.0.1 in /usr/local/lib/python3.10/dist-packages (from matplotlib) (1.4.5)\n",
            "Requirement already satisfied: numpy>=1.20 in /usr/local/lib/python3.10/dist-packages (from matplotlib) (1.25.2)\n",
            "Requirement already satisfied: packaging>=20.0 in /usr/local/lib/python3.10/dist-packages (from matplotlib) (23.2)\n",
            "Requirement already satisfied: pillow>=6.2.0 in /usr/local/lib/python3.10/dist-packages (from matplotlib) (9.4.0)\n",
            "Requirement already satisfied: pyparsing>=2.3.1 in /usr/local/lib/python3.10/dist-packages (from matplotlib) (3.1.1)\n",
            "Requirement already satisfied: python-dateutil>=2.7 in /usr/local/lib/python3.10/dist-packages (from matplotlib) (2.8.2)\n",
            "Requirement already satisfied: six>=1.5 in /usr/local/lib/python3.10/dist-packages (from python-dateutil>=2.7->matplotlib) (1.16.0)\n",
            "Requirement already satisfied: Pillow in /usr/local/lib/python3.10/dist-packages (9.4.0)\n",
            "Requirement already satisfied: torchvision in /usr/local/lib/python3.10/dist-packages (0.16.0+cu121)\n",
            "Requirement already satisfied: numpy in /usr/local/lib/python3.10/dist-packages (from torchvision) (1.25.2)\n",
            "Requirement already satisfied: requests in /usr/local/lib/python3.10/dist-packages (from torchvision) (2.31.0)\n",
            "Requirement already satisfied: torch==2.1.0 in /usr/local/lib/python3.10/dist-packages (from torchvision) (2.1.0+cu121)\n",
            "Requirement already satisfied: pillow!=8.3.*,>=5.3.0 in /usr/local/lib/python3.10/dist-packages (from torchvision) (9.4.0)\n",
            "Requirement already satisfied: filelock in /usr/local/lib/python3.10/dist-packages (from torch==2.1.0->torchvision) (3.13.1)\n",
            "Requirement already satisfied: typing-extensions in /usr/local/lib/python3.10/dist-packages (from torch==2.1.0->torchvision) (4.9.0)\n",
            "Requirement already satisfied: sympy in /usr/local/lib/python3.10/dist-packages (from torch==2.1.0->torchvision) (1.12)\n",
            "Requirement already satisfied: networkx in /usr/local/lib/python3.10/dist-packages (from torch==2.1.0->torchvision) (3.2.1)\n",
            "Requirement already satisfied: jinja2 in /usr/local/lib/python3.10/dist-packages (from torch==2.1.0->torchvision) (3.1.3)\n",
            "Requirement already satisfied: fsspec in /usr/local/lib/python3.10/dist-packages (from torch==2.1.0->torchvision) (2023.6.0)\n",
            "Requirement already satisfied: triton==2.1.0 in /usr/local/lib/python3.10/dist-packages (from torch==2.1.0->torchvision) (2.1.0)\n",
            "Requirement already satisfied: charset-normalizer<4,>=2 in /usr/local/lib/python3.10/dist-packages (from requests->torchvision) (3.3.2)\n",
            "Requirement already satisfied: idna<4,>=2.5 in /usr/local/lib/python3.10/dist-packages (from requests->torchvision) (3.6)\n",
            "Requirement already satisfied: urllib3<3,>=1.21.1 in /usr/local/lib/python3.10/dist-packages (from requests->torchvision) (2.0.7)\n",
            "Requirement already satisfied: certifi>=2017.4.17 in /usr/local/lib/python3.10/dist-packages (from requests->torchvision) (2024.2.2)\n",
            "Requirement already satisfied: MarkupSafe>=2.0 in /usr/local/lib/python3.10/dist-packages (from jinja2->torch==2.1.0->torchvision) (2.1.5)\n",
            "Requirement already satisfied: mpmath>=0.19 in /usr/local/lib/python3.10/dist-packages (from sympy->torch==2.1.0->torchvision) (1.3.0)\n"
          ]
        }
      ],
      "source": [
        "!pip install ood-metrics\n",
        "!pip install visdom\n",
        "!pip install numpy\n",
        "!pip install matplotlib\n",
        "!pip install Pillow\n",
        "!pip install torchvision"
      ]
    },
    {
      "cell_type": "markdown",
      "metadata": {
        "id": "4VzKhHvNQPqf"
      },
      "source": [
        "**Cityscape Dataset**\n",
        "* Download the \"leftImg8bit\" for the RGB images and the \"gtFine\" for the labels. Please note that for training you should use the \"_labelTrainIds\" and not the \"_labelIds, You can download the cityscapes scripts and use the conversor to generate trainIds from labelIds"
      ]
    },
    {
      "cell_type": "code",
      "execution_count": null,
      "metadata": {
        "colab": {
          "base_uri": "https://localhost:8080/"
        },
        "id": "8HMbZ_2OQprb",
        "outputId": "18c8fad0-d57b-4102-e324-136cc200d72b"
      },
      "outputs": [
        {
          "output_type": "stream",
          "name": "stdout",
          "text": [
            "Collecting cityscapesscripts\n",
            "  Downloading cityscapesScripts-2.2.2-py3-none-any.whl (473 kB)\n",
            "\u001b[?25l     \u001b[90m━━━━━━━━━━━━━━━━━━━━━━━━━━━━━━━━━━━━━━━━\u001b[0m \u001b[32m0.0/473.3 kB\u001b[0m \u001b[31m?\u001b[0m eta \u001b[36m-:--:--\u001b[0m\r\u001b[2K     \u001b[91m━━━━━━\u001b[0m\u001b[91m╸\u001b[0m\u001b[90m━━━━━━━━━━━━━━━━━━━━━━━━━━━━━━━━━\u001b[0m \u001b[32m81.9/473.3 kB\u001b[0m \u001b[31m2.6 MB/s\u001b[0m eta \u001b[36m0:00:01\u001b[0m\r\u001b[2K     \u001b[91m━━━━━━━━━━━━━━━━━━━━━━━━━━━━━\u001b[0m\u001b[90m╺\u001b[0m\u001b[90m━━━━━━━━━━\u001b[0m \u001b[32m348.2/473.3 kB\u001b[0m \u001b[31m5.0 MB/s\u001b[0m eta \u001b[36m0:00:01\u001b[0m\r\u001b[2K     \u001b[90m━━━━━━━━━━━━━━━━━━━━━━━━━━━━━━━━━━━━━━━━\u001b[0m \u001b[32m473.3/473.3 kB\u001b[0m \u001b[31m5.0 MB/s\u001b[0m eta \u001b[36m0:00:00\u001b[0m\n",
            "\u001b[?25hRequirement already satisfied: numpy in /usr/local/lib/python3.10/dist-packages (from cityscapesscripts) (1.25.2)\n",
            "Requirement already satisfied: matplotlib in /usr/local/lib/python3.10/dist-packages (from cityscapesscripts) (3.7.1)\n",
            "Requirement already satisfied: pillow in /usr/local/lib/python3.10/dist-packages (from cityscapesscripts) (9.4.0)\n",
            "Requirement already satisfied: appdirs in /usr/local/lib/python3.10/dist-packages (from cityscapesscripts) (1.4.4)\n",
            "Collecting pyquaternion (from cityscapesscripts)\n",
            "  Downloading pyquaternion-0.9.9-py3-none-any.whl (14 kB)\n",
            "Collecting coloredlogs (from cityscapesscripts)\n",
            "  Downloading coloredlogs-15.0.1-py2.py3-none-any.whl (46 kB)\n",
            "\u001b[2K     \u001b[90m━━━━━━━━━━━━━━━━━━━━━━━━━━━━━━━━━━━━━━━━\u001b[0m \u001b[32m46.0/46.0 kB\u001b[0m \u001b[31m4.3 MB/s\u001b[0m eta \u001b[36m0:00:00\u001b[0m\n",
            "\u001b[?25hRequirement already satisfied: tqdm in /usr/local/lib/python3.10/dist-packages (from cityscapesscripts) (4.66.2)\n",
            "Collecting typing (from cityscapesscripts)\n",
            "  Downloading typing-3.7.4.3.tar.gz (78 kB)\n",
            "\u001b[2K     \u001b[90m━━━━━━━━━━━━━━━━━━━━━━━━━━━━━━━━━━━━━━━━\u001b[0m \u001b[32m78.6/78.6 kB\u001b[0m \u001b[31m9.2 MB/s\u001b[0m eta \u001b[36m0:00:00\u001b[0m\n",
            "\u001b[?25h  Preparing metadata (setup.py) ... \u001b[?25l\u001b[?25hdone\n",
            "Collecting humanfriendly>=9.1 (from coloredlogs->cityscapesscripts)\n",
            "  Downloading humanfriendly-10.0-py2.py3-none-any.whl (86 kB)\n",
            "\u001b[2K     \u001b[90m━━━━━━━━━━━━━━━━━━━━━━━━━━━━━━━━━━━━━━━━\u001b[0m \u001b[32m86.8/86.8 kB\u001b[0m \u001b[31m7.2 MB/s\u001b[0m eta \u001b[36m0:00:00\u001b[0m\n",
            "\u001b[?25hRequirement already satisfied: contourpy>=1.0.1 in /usr/local/lib/python3.10/dist-packages (from matplotlib->cityscapesscripts) (1.2.0)\n",
            "Requirement already satisfied: cycler>=0.10 in /usr/local/lib/python3.10/dist-packages (from matplotlib->cityscapesscripts) (0.12.1)\n",
            "Requirement already satisfied: fonttools>=4.22.0 in /usr/local/lib/python3.10/dist-packages (from matplotlib->cityscapesscripts) (4.48.1)\n",
            "Requirement already satisfied: kiwisolver>=1.0.1 in /usr/local/lib/python3.10/dist-packages (from matplotlib->cityscapesscripts) (1.4.5)\n",
            "Requirement already satisfied: packaging>=20.0 in /usr/local/lib/python3.10/dist-packages (from matplotlib->cityscapesscripts) (23.2)\n",
            "Requirement already satisfied: pyparsing>=2.3.1 in /usr/local/lib/python3.10/dist-packages (from matplotlib->cityscapesscripts) (3.1.1)\n",
            "Requirement already satisfied: python-dateutil>=2.7 in /usr/local/lib/python3.10/dist-packages (from matplotlib->cityscapesscripts) (2.8.2)\n",
            "Requirement already satisfied: six>=1.5 in /usr/local/lib/python3.10/dist-packages (from python-dateutil>=2.7->matplotlib->cityscapesscripts) (1.16.0)\n",
            "Building wheels for collected packages: typing\n",
            "  Building wheel for typing (setup.py) ... \u001b[?25l\u001b[?25hdone\n",
            "  Created wheel for typing: filename=typing-3.7.4.3-py3-none-any.whl size=26304 sha256=cd9a2b4379e22685cd2c0eeeef560547b07be162cbaa92f3eb4254909c4e9fb7\n",
            "  Stored in directory: /root/.cache/pip/wheels/7c/d0/9e/1f26ebb66d9e1732e4098bc5a6c2d91f6c9a529838f0284890\n",
            "Successfully built typing\n",
            "Installing collected packages: typing, pyquaternion, humanfriendly, coloredlogs, cityscapesscripts\n",
            "Successfully installed cityscapesscripts-2.2.2 coloredlogs-15.0.1 humanfriendly-10.0 pyquaternion-0.9.9 typing-3.7.4.3\n",
            "Requirement already satisfied: cityscapesscripts[gui] in /usr/local/lib/python3.10/dist-packages (2.2.2)\n",
            "Requirement already satisfied: numpy in /usr/local/lib/python3.10/dist-packages (from cityscapesscripts[gui]) (1.25.2)\n",
            "Requirement already satisfied: matplotlib in /usr/local/lib/python3.10/dist-packages (from cityscapesscripts[gui]) (3.7.1)\n",
            "Requirement already satisfied: pillow in /usr/local/lib/python3.10/dist-packages (from cityscapesscripts[gui]) (9.4.0)\n",
            "Requirement already satisfied: appdirs in /usr/local/lib/python3.10/dist-packages (from cityscapesscripts[gui]) (1.4.4)\n",
            "Requirement already satisfied: pyquaternion in /usr/local/lib/python3.10/dist-packages (from cityscapesscripts[gui]) (0.9.9)\n",
            "Requirement already satisfied: coloredlogs in /usr/local/lib/python3.10/dist-packages (from cityscapesscripts[gui]) (15.0.1)\n",
            "Requirement already satisfied: tqdm in /usr/local/lib/python3.10/dist-packages (from cityscapesscripts[gui]) (4.66.2)\n",
            "Requirement already satisfied: typing in /usr/local/lib/python3.10/dist-packages (from cityscapesscripts[gui]) (3.7.4.3)\n",
            "Collecting PyQt5 (from cityscapesscripts[gui])\n",
            "  Downloading PyQt5-5.15.10-cp37-abi3-manylinux_2_17_x86_64.whl (8.2 MB)\n",
            "\u001b[2K     \u001b[90m━━━━━━━━━━━━━━━━━━━━━━━━━━━━━━━━━━━━━━━━\u001b[0m \u001b[32m8.2/8.2 MB\u001b[0m \u001b[31m12.0 MB/s\u001b[0m eta \u001b[36m0:00:00\u001b[0m\n",
            "\u001b[?25hRequirement already satisfied: humanfriendly>=9.1 in /usr/local/lib/python3.10/dist-packages (from coloredlogs->cityscapesscripts[gui]) (10.0)\n",
            "Requirement already satisfied: contourpy>=1.0.1 in /usr/local/lib/python3.10/dist-packages (from matplotlib->cityscapesscripts[gui]) (1.2.0)\n",
            "Requirement already satisfied: cycler>=0.10 in /usr/local/lib/python3.10/dist-packages (from matplotlib->cityscapesscripts[gui]) (0.12.1)\n",
            "Requirement already satisfied: fonttools>=4.22.0 in /usr/local/lib/python3.10/dist-packages (from matplotlib->cityscapesscripts[gui]) (4.48.1)\n",
            "Requirement already satisfied: kiwisolver>=1.0.1 in /usr/local/lib/python3.10/dist-packages (from matplotlib->cityscapesscripts[gui]) (1.4.5)\n",
            "Requirement already satisfied: packaging>=20.0 in /usr/local/lib/python3.10/dist-packages (from matplotlib->cityscapesscripts[gui]) (23.2)\n",
            "Requirement already satisfied: pyparsing>=2.3.1 in /usr/local/lib/python3.10/dist-packages (from matplotlib->cityscapesscripts[gui]) (3.1.1)\n",
            "Requirement already satisfied: python-dateutil>=2.7 in /usr/local/lib/python3.10/dist-packages (from matplotlib->cityscapesscripts[gui]) (2.8.2)\n",
            "Collecting PyQt5-sip<13,>=12.13 (from PyQt5->cityscapesscripts[gui])\n",
            "  Downloading PyQt5_sip-12.13.0-cp310-cp310-manylinux_2_5_x86_64.manylinux1_x86_64.whl (338 kB)\n",
            "\u001b[2K     \u001b[90m━━━━━━━━━━━━━━━━━━━━━━━━━━━━━━━━━━━━━━━━\u001b[0m \u001b[32m338.1/338.1 kB\u001b[0m \u001b[31m29.6 MB/s\u001b[0m eta \u001b[36m0:00:00\u001b[0m\n",
            "\u001b[?25hCollecting PyQt5-Qt5>=5.15.2 (from PyQt5->cityscapesscripts[gui])\n",
            "  Downloading PyQt5_Qt5-5.15.2-py3-none-manylinux2014_x86_64.whl (59.9 MB)\n",
            "\u001b[2K     \u001b[90m━━━━━━━━━━━━━━━━━━━━━━━━━━━━━━━━━━━━━━━━\u001b[0m \u001b[32m59.9/59.9 MB\u001b[0m \u001b[31m9.4 MB/s\u001b[0m eta \u001b[36m0:00:00\u001b[0m\n",
            "\u001b[?25hRequirement already satisfied: six>=1.5 in /usr/local/lib/python3.10/dist-packages (from python-dateutil>=2.7->matplotlib->cityscapesscripts[gui]) (1.16.0)\n",
            "Installing collected packages: PyQt5-Qt5, PyQt5-sip, PyQt5\n",
            "Successfully installed PyQt5-5.15.10 PyQt5-Qt5-5.15.2 PyQt5-sip-12.13.0\n"
          ]
        }
      ],
      "source": [
        "!python -m pip install cityscapesscripts\n",
        "!python -m pip install cityscapesscripts[gui]"
      ]
    },
    {
      "cell_type": "markdown",
      "metadata": {
        "id": "v9osX6kDijwK"
      },
      "source": [
        "* Once you have install the scripts, you can use them to download gtFine and leftImg8bit"
      ]
    },
    {
      "cell_type": "code",
      "execution_count": null,
      "metadata": {
        "colab": {
          "base_uri": "https://localhost:8080/"
        },
        "id": "2zfXYs8sitW3",
        "outputId": "c4b43ef9-113d-4c24-e4a4-e12b42dec0cc"
      },
      "outputs": [
        {
          "output_type": "stream",
          "name": "stdout",
          "text": [
            "['__builtins__', '__cached__', '__doc__', '__file__', '__loader__', '__name__', '__package__', '__spec__', 'absolute_import', 'appdirs', 'argparse', 'division', 'download_packages', 'get_available_packages', 'getpass', 'hashlib', 'input', 'json', 'list_available_packages', 'login', 'main', 'os', 'parse_arguments', 'print_function', 'requests', 'shutil', 'stat', 'unicode_literals']\n",
            "Cityscapes username or email address: s314404@studenti.polito.it\n",
            "Cityscapes password: ··········\n",
            "Store credentials unencrypted in '/root/.local/share/cityscapesscripts/credentials.json' [y/N]: y\n",
            "The following packages are available for download.\n",
            "Please refer to https://www.cityscapes-dataset.com/downloads/ for additional packages and instructions on properly citing third party packages.\n",
            " gtFine_trainvaltest.zip -> 241MB\n",
            " gtCoarse.zip -> 1.3GB\n",
            " leftImg8bit_trainvaltest.zip -> 11GB\n",
            " leftImg8bit_trainextra.zip -> 44GB\n",
            " rightImg8bit_trainvaltest.zip -> 11GB\n",
            " rightImg8bit_trainextra.zip -> 44GB\n",
            " disparity_trainvaltest.zip -> 3.5GB\n",
            " disparity_trainextra.zip -> 15GB\n",
            " camera_trainvaltest.zip -> 2MB\n",
            " camera_trainextra.zip -> 8MB\n",
            " vehicle_trainvaltest.zip -> 2MB\n",
            " vehicle_trainextra.zip -> 7MB\n",
            " leftImg8bit_demoVideo.zip -> 6.6GB\n",
            " all_demoVideo.zip -> 59GB\n",
            " leftImg8bit_blurred.zip -> 11GB\n",
            " leftImg8bit_sequence_trainvaltest.zip -> 324GB\n",
            " timestamp_sequence.zip -> 40MB\n",
            " vehicle_sequence.zip -> 56MB\n",
            " rightImg8bit_sequence_trainvaltest.zip -> 322GB\n",
            " disparity_sequence_trainvaltest.zip -> 106GB\n",
            " leftImg8bit_allFrames_frankfurt.zip -> 241GB\n",
            " timestamp_allFrames_frankfurt.zip -> 29MB\n",
            " vehicle_allFrames_frankfurt.zip -> 38MB\n",
            " leftImg16bit_trainvaltest.zip -> 37GB\n",
            " rightImg8bit_allFrames_frankfurt.zip -> 242GB\n",
            " leftImg16bit_trainextra.zip -> 149GB\n",
            " rightImg16bit_trainvaltest.zip -> 37GB\n",
            " rightImg16bit_trainextra.zip -> 149GB\n",
            " gtBbox3d_trainvaltest.zip -> 6.6MB (third party)\n",
            " gtBbox_cityPersons_trainval.zip -> 2.2MB (third party)\n",
            " gtFinePanopticParts_trainval.zip -> 474MB (third party)\n",
            " leftImg8bit_trainval_foggyDBF.zip -> 20GB (third party)\n",
            " leftImg8bit_trainvaltest_foggy.zip -> 30GB (third party)\n",
            " leftImg8bit_trainextra_foggy.zip -> 40GB (third party)\n",
            " leftImg8bit_trainval_rain.zip -> 21GB (third party)\n",
            "None\n",
            "Downloading cityscapes package 'leftImg8bit_trainvaltest.zip' to '/content/Datasets/Cityscapes/leftImg8bit_trainvaltest.zip'\n",
            "Downloading cityscapes package 'gtFine_trainvaltest.zip' to '/content/Datasets/Cityscapes/gtFine_trainvaltest.zip'\n"
          ]
        }
      ],
      "source": [
        "#As shows in the README here: https://github.com/mcordts/cityscapesScripts\n",
        "from cityscapesscripts.download import downloader\n",
        "print(dir(downloader))\n",
        "import os\n",
        "\n",
        "# Esegui il login\n",
        "session = downloader.login()\n",
        "names = downloader.list_available_packages(session=session)\n",
        "print(names)\n",
        "\n",
        "\n",
        "destination_path = \"/content/Datasets/Cityscapes\"\n",
        "os.makedirs(destination_path, exist_ok=True)\n",
        "\n",
        "downloader.download_packages(session=session, package_names=['leftImg8bit_trainvaltest.zip', 'gtFine_trainvaltest.zip'], destination_path=destination_path)\n"
      ]
    },
    {
      "cell_type": "markdown",
      "metadata": {
        "id": "vXz2KQDP3Nls"
      },
      "source": [
        "* Now unzip the content"
      ]
    },
    {
      "cell_type": "code",
      "execution_count": null,
      "metadata": {
        "id": "u141QV-FRmRc"
      },
      "outputs": [],
      "source": [
        "!unzip /content/Datasets/Cityscapes/leftImg8bit_trainvaltest.zip -d /content/Datasets/Cityscapes/\n"
      ]
    },
    {
      "cell_type": "code",
      "execution_count": null,
      "metadata": {
        "id": "pnYRzEPAWY4L"
      },
      "outputs": [],
      "source": [
        "!unzip /content/Datasets/Cityscapes/gtFine_trainvaltest.zip -d /content/Datasets/Cityscapes/"
      ]
    },
    {
      "cell_type": "code",
      "execution_count": null,
      "metadata": {
        "id": "YLJKiI2fYC0Z"
      },
      "outputs": [],
      "source": [
        "os.environ['CITYSCAPES_DATASET'] = '/content/Datasets/Cityscapes'\n",
        "from cityscapesscripts.preparation.createTrainIdLabelImgs import main as convertor\n",
        "convertor()"
      ]
    },
    {
      "cell_type": "markdown",
      "metadata": {
        "id": "ew7zsXKG-bN2"
      },
      "source": [
        "## POINT 2, DATA FOR TABLES\n",
        "Execution of evalAnomaly for performing various anomaly inferences with different anomaly segmentation metrics"
      ]
    },
    {
      "cell_type": "markdown",
      "metadata": {
        "id": "kWGRlGvFip0D"
      },
      "source": [
        "* retrieve the datasets from: https://drive.google.com/file/d/1r2eFANvSlcUjxcerjC8l6dRa0slowMpx/view"
      ]
    },
    {
      "cell_type": "code",
      "execution_count": null,
      "metadata": {
        "colab": {
          "base_uri": "https://localhost:8080/"
        },
        "id": "IgtaHfzsJuJC",
        "outputId": "138d2add-0724-41d8-a5e7-e0d0342d9da1"
      },
      "outputs": [
        {
          "output_type": "stream",
          "name": "stdout",
          "text": [
            "Requirement already satisfied: gdown in /usr/local/lib/python3.10/dist-packages (4.7.3)\n",
            "Requirement already satisfied: filelock in /usr/local/lib/python3.10/dist-packages (from gdown) (3.13.1)\n",
            "Requirement already satisfied: requests[socks] in /usr/local/lib/python3.10/dist-packages (from gdown) (2.31.0)\n",
            "Requirement already satisfied: six in /usr/local/lib/python3.10/dist-packages (from gdown) (1.16.0)\n",
            "Requirement already satisfied: tqdm in /usr/local/lib/python3.10/dist-packages (from gdown) (4.66.2)\n",
            "Requirement already satisfied: beautifulsoup4 in /usr/local/lib/python3.10/dist-packages (from gdown) (4.12.3)\n",
            "Requirement already satisfied: soupsieve>1.2 in /usr/local/lib/python3.10/dist-packages (from beautifulsoup4->gdown) (2.5)\n",
            "Requirement already satisfied: charset-normalizer<4,>=2 in /usr/local/lib/python3.10/dist-packages (from requests[socks]->gdown) (3.3.2)\n",
            "Requirement already satisfied: idna<4,>=2.5 in /usr/local/lib/python3.10/dist-packages (from requests[socks]->gdown) (3.6)\n",
            "Requirement already satisfied: urllib3<3,>=1.21.1 in /usr/local/lib/python3.10/dist-packages (from requests[socks]->gdown) (2.0.7)\n",
            "Requirement already satisfied: certifi>=2017.4.17 in /usr/local/lib/python3.10/dist-packages (from requests[socks]->gdown) (2024.2.2)\n",
            "Requirement already satisfied: PySocks!=1.5.7,>=1.5.6 in /usr/local/lib/python3.10/dist-packages (from requests[socks]->gdown) (1.7.1)\n",
            "/usr/local/lib/python3.10/dist-packages/gdown/cli.py:138: FutureWarning: Option `--id` was deprecated in version 4.3.1 and will be removed in 5.0. You don't need to pass it anymore to use a file ID.\n",
            "  warnings.warn(\n",
            "Downloading...\n",
            "From (original): https://drive.google.com/uc?id=1r2eFANvSlcUjxcerjC8l6dRa0slowMpx\n",
            "From (redirected): https://drive.google.com/uc?id=1r2eFANvSlcUjxcerjC8l6dRa0slowMpx&confirm=t&uuid=a2628e64-2a5e-486d-838d-eec2d112a0a1\n",
            "To: /content/Validation_Dataset.zip\n",
            "100% 329M/329M [00:02<00:00, 161MB/s]\n"
          ]
        }
      ],
      "source": [
        "# if the last command doesn't work try:\n",
        "!pip install gdown\n",
        "\n",
        "file_id = '1r2eFANvSlcUjxcerjC8l6dRa0slowMpx'\n",
        "output_file = 'Validation_Dataset.zip'\n",
        "\n",
        "# Scarica il file utilizzando gdown\n",
        "!gdown --id $file_id -O $output_file"
      ]
    },
    {
      "cell_type": "code",
      "execution_count": null,
      "metadata": {
        "colab": {
          "base_uri": "https://localhost:8080/"
        },
        "id": "I1ofjGUksxBt",
        "outputId": "7c2e9db1-eb02-48c2-a44e-62f4045835c8"
      },
      "outputs": [
        {
          "output_type": "stream",
          "name": "stdout",
          "text": [
            "Archive:  /content/Validation_Dataset.zip\n",
            "   creating: /content/Validation_Dataset/\n",
            "   creating: /content/Validation_Dataset/RoadAnomaly21/\n",
            "  inflating: /content/Validation_Dataset/.DS_Store  \n",
            "  inflating: /content/__MACOSX/Validation_Dataset/._.DS_Store  \n",
            "   creating: /content/Validation_Dataset/RoadAnomaly/\n",
            "   creating: /content/Validation_Dataset/RoadObsticle21/\n",
            "   creating: /content/Validation_Dataset/fs_static/\n",
            "   creating: /content/Validation_Dataset/FS_LostFound_full/\n",
            "  inflating: /content/Validation_Dataset/RoadAnomaly21/.DS_Store  \n",
            "  inflating: /content/__MACOSX/Validation_Dataset/RoadAnomaly21/._.DS_Store  \n",
            "   creating: /content/Validation_Dataset/RoadAnomaly21/images/\n",
            "   creating: /content/Validation_Dataset/RoadAnomaly21/labels_masks/\n",
            "  inflating: /content/Validation_Dataset/RoadAnomaly/.DS_Store  \n",
            "  inflating: /content/__MACOSX/Validation_Dataset/RoadAnomaly/._.DS_Store  \n",
            "   creating: /content/Validation_Dataset/RoadAnomaly/images/\n",
            "   creating: /content/Validation_Dataset/RoadAnomaly/labels_masks/\n",
            "  inflating: /content/Validation_Dataset/RoadObsticle21/.DS_Store  \n",
            "  inflating: /content/__MACOSX/Validation_Dataset/RoadObsticle21/._.DS_Store  \n",
            "   creating: /content/Validation_Dataset/RoadObsticle21/images/\n",
            "   creating: /content/Validation_Dataset/RoadObsticle21/labels_masks/\n",
            "  inflating: /content/Validation_Dataset/fs_static/.DS_Store  \n",
            "  inflating: /content/__MACOSX/Validation_Dataset/fs_static/._.DS_Store  \n",
            "   creating: /content/Validation_Dataset/fs_static/images/\n",
            "   creating: /content/Validation_Dataset/fs_static/labels_masks/\n",
            "  inflating: /content/Validation_Dataset/FS_LostFound_full/.DS_Store  \n",
            "  inflating: /content/__MACOSX/Validation_Dataset/FS_LostFound_full/._.DS_Store  \n",
            "   creating: /content/Validation_Dataset/FS_LostFound_full/images/\n",
            "   creating: /content/Validation_Dataset/FS_LostFound_full/labels_masks/\n",
            "  inflating: /content/Validation_Dataset/RoadAnomaly21/images/8.png  \n",
            "  inflating: /content/Validation_Dataset/RoadAnomaly21/images/9.png  \n",
            "  inflating: /content/Validation_Dataset/RoadAnomaly21/images/4.png  \n",
            "  inflating: /content/Validation_Dataset/RoadAnomaly21/images/5.png  \n",
            "  inflating: /content/Validation_Dataset/RoadAnomaly21/images/7.png  \n",
            "  inflating: /content/Validation_Dataset/RoadAnomaly21/images/6.png  \n",
            "  inflating: /content/Validation_Dataset/RoadAnomaly21/images/2.png  \n",
            "  inflating: /content/Validation_Dataset/RoadAnomaly21/images/3.png  \n",
            "  inflating: /content/Validation_Dataset/RoadAnomaly21/images/1.png  \n",
            "  inflating: /content/Validation_Dataset/RoadAnomaly21/images/0.png  \n",
            "  inflating: /content/Validation_Dataset/RoadAnomaly21/labels_masks/8.png  \n",
            "  inflating: /content/Validation_Dataset/RoadAnomaly21/labels_masks/9.png  \n",
            "  inflating: /content/Validation_Dataset/RoadAnomaly21/labels_masks/4.png  \n",
            "  inflating: /content/Validation_Dataset/RoadAnomaly21/labels_masks/5.png  \n",
            "  inflating: /content/Validation_Dataset/RoadAnomaly21/labels_masks/7.png  \n",
            "  inflating: /content/Validation_Dataset/RoadAnomaly21/labels_masks/6.png  \n",
            "  inflating: /content/Validation_Dataset/RoadAnomaly21/labels_masks/2.png  \n",
            "  inflating: /content/Validation_Dataset/RoadAnomaly21/labels_masks/3.png  \n",
            "  inflating: /content/Validation_Dataset/RoadAnomaly21/labels_masks/1.png  \n",
            "  inflating: /content/Validation_Dataset/RoadAnomaly21/labels_masks/0.png  \n",
            "  inflating: /content/Validation_Dataset/RoadAnomaly/images/48.jpg  \n",
            "  inflating: /content/Validation_Dataset/RoadAnomaly/images/49.jpg  \n",
            "  inflating: /content/Validation_Dataset/RoadAnomaly/images/59.jpg  \n",
            "  inflating: /content/Validation_Dataset/RoadAnomaly/images/58.jpg  \n",
            "  inflating: /content/Validation_Dataset/RoadAnomaly/images/8.jpg  \n",
            "  inflating: /content/Validation_Dataset/RoadAnomaly/images/9.jpg  \n",
            "  inflating: /content/Validation_Dataset/RoadAnomaly/images/14.jpg  \n",
            "  inflating: /content/Validation_Dataset/RoadAnomaly/images/28.jpg  \n",
            "  inflating: /content/Validation_Dataset/RoadAnomaly/images/29.jpg  \n",
            "  inflating: /content/Validation_Dataset/RoadAnomaly/images/15.jpg  \n",
            "  inflating: /content/Validation_Dataset/RoadAnomaly/images/17.jpg  \n",
            "  inflating: /content/Validation_Dataset/RoadAnomaly/images/16.jpg  \n",
            "  inflating: /content/Validation_Dataset/RoadAnomaly/images/12.jpg  \n",
            "  inflating: /content/Validation_Dataset/RoadAnomaly/images/13.jpg  \n",
            "  inflating: /content/Validation_Dataset/RoadAnomaly/images/39.jpg  \n",
            "  inflating: /content/Validation_Dataset/RoadAnomaly/images/11.jpg  \n",
            "  inflating: /content/Validation_Dataset/RoadAnomaly/images/10.jpg  \n",
            "  inflating: /content/Validation_Dataset/RoadAnomaly/images/38.jpg  \n",
            "  inflating: /content/Validation_Dataset/RoadAnomaly/images/21.jpg  \n",
            "  inflating: /content/Validation_Dataset/RoadAnomaly/images/35.jpg  \n",
            "  inflating: /content/Validation_Dataset/RoadAnomaly/images/34.jpg  \n",
            "  inflating: /content/Validation_Dataset/RoadAnomaly/images/20.jpg  \n",
            "  inflating: /content/Validation_Dataset/RoadAnomaly/images/36.jpg  \n",
            "  inflating: /content/Validation_Dataset/RoadAnomaly/images/22.jpg  \n",
            "  inflating: /content/Validation_Dataset/RoadAnomaly/images/23.jpg  \n",
            "  inflating: /content/Validation_Dataset/RoadAnomaly/images/37.jpg  \n",
            "  inflating: /content/Validation_Dataset/RoadAnomaly/images/33.jpg  \n",
            "  inflating: /content/Validation_Dataset/RoadAnomaly/images/27.jpg  \n",
            "  inflating: /content/Validation_Dataset/RoadAnomaly/images/26.jpg  \n",
            "  inflating: /content/Validation_Dataset/RoadAnomaly/images/32.jpg  \n",
            "  inflating: /content/Validation_Dataset/RoadAnomaly/images/18.jpg  \n",
            "  inflating: /content/Validation_Dataset/RoadAnomaly/images/24.jpg  \n",
            "  inflating: /content/Validation_Dataset/RoadAnomaly/images/30.jpg  \n",
            "  inflating: /content/Validation_Dataset/RoadAnomaly/images/31.jpg  \n",
            "  inflating: /content/Validation_Dataset/RoadAnomaly/images/25.jpg  \n",
            "  inflating: /content/Validation_Dataset/RoadAnomaly/images/19.jpg  \n",
            "  inflating: /content/Validation_Dataset/RoadAnomaly/images/42.jpg  \n",
            "  inflating: /content/Validation_Dataset/RoadAnomaly/images/4.jpg  \n",
            "  inflating: /content/Validation_Dataset/RoadAnomaly/images/56.jpg  \n",
            "  inflating: /content/Validation_Dataset/RoadAnomaly/images/5.jpg  \n",
            "  inflating: /content/Validation_Dataset/RoadAnomaly/images/57.jpg  \n",
            "  inflating: /content/Validation_Dataset/RoadAnomaly/images/43.jpg  \n",
            "  inflating: /content/Validation_Dataset/RoadAnomaly/images/55.jpg  \n",
            "  inflating: /content/Validation_Dataset/RoadAnomaly/images/7.jpg  \n",
            "  inflating: /content/Validation_Dataset/RoadAnomaly/images/41.jpg  \n",
            "  inflating: /content/Validation_Dataset/RoadAnomaly/images/40.jpg  \n",
            "  inflating: /content/Validation_Dataset/RoadAnomaly/images/54.jpg  \n",
            "  inflating: /content/Validation_Dataset/RoadAnomaly/images/6.jpg  \n",
            "  inflating: /content/Validation_Dataset/RoadAnomaly/images/2.jpg  \n",
            "  inflating: /content/Validation_Dataset/RoadAnomaly/images/50.jpg  \n",
            "  inflating: /content/Validation_Dataset/RoadAnomaly/images/44.jpg  \n",
            "  inflating: /content/Validation_Dataset/RoadAnomaly/images/45.jpg  \n",
            "  inflating: /content/Validation_Dataset/RoadAnomaly/images/3.jpg  \n",
            "  inflating: /content/Validation_Dataset/RoadAnomaly/images/51.jpg  \n",
            "  inflating: /content/Validation_Dataset/RoadAnomaly/images/47.jpg  \n",
            "  inflating: /content/Validation_Dataset/RoadAnomaly/images/53.jpg  \n",
            "  inflating: /content/Validation_Dataset/RoadAnomaly/images/1.jpg  \n",
            "  inflating: /content/Validation_Dataset/RoadAnomaly/images/52.jpg  \n",
            "  inflating: /content/Validation_Dataset/RoadAnomaly/images/0.jpg  \n",
            "  inflating: /content/Validation_Dataset/RoadAnomaly/images/46.jpg  \n",
            "  inflating: /content/Validation_Dataset/RoadAnomaly/labels_masks/48.png  \n",
            "  inflating: /content/Validation_Dataset/RoadAnomaly/labels_masks/49.png  \n",
            "  inflating: /content/Validation_Dataset/RoadAnomaly/labels_masks/59.png  \n",
            "  inflating: /content/Validation_Dataset/RoadAnomaly/labels_masks/58.png  \n",
            "  inflating: /content/Validation_Dataset/RoadAnomaly/labels_masks/8.png  \n",
            "  inflating: /content/Validation_Dataset/RoadAnomaly/labels_masks/9.png  \n",
            "  inflating: /content/Validation_Dataset/RoadAnomaly/labels_masks/14.png  \n",
            "  inflating: /content/Validation_Dataset/RoadAnomaly/labels_masks/28.png  \n",
            "  inflating: /content/Validation_Dataset/RoadAnomaly/labels_masks/29.png  \n",
            "  inflating: /content/Validation_Dataset/RoadAnomaly/labels_masks/15.png  \n",
            "  inflating: /content/Validation_Dataset/RoadAnomaly/labels_masks/17.png  \n",
            "  inflating: /content/Validation_Dataset/RoadAnomaly/labels_masks/16.png  \n",
            "  inflating: /content/Validation_Dataset/RoadAnomaly/labels_masks/12.png  \n",
            "  inflating: /content/Validation_Dataset/RoadAnomaly/labels_masks/13.png  \n",
            "  inflating: /content/Validation_Dataset/RoadAnomaly/labels_masks/39.png  \n",
            "  inflating: /content/Validation_Dataset/RoadAnomaly/labels_masks/11.png  \n",
            "  inflating: /content/Validation_Dataset/RoadAnomaly/labels_masks/10.png  \n",
            "  inflating: /content/Validation_Dataset/RoadAnomaly/labels_masks/38.png  \n",
            "  inflating: /content/Validation_Dataset/RoadAnomaly/labels_masks/35.png  \n",
            "  inflating: /content/Validation_Dataset/RoadAnomaly/labels_masks/21.png  \n",
            "  inflating: /content/Validation_Dataset/RoadAnomaly/labels_masks/20.png  \n",
            "  inflating: /content/Validation_Dataset/RoadAnomaly/labels_masks/34.png  \n",
            "  inflating: /content/Validation_Dataset/RoadAnomaly/labels_masks/22.png  \n",
            "  inflating: /content/Validation_Dataset/RoadAnomaly/labels_masks/36.png  \n",
            "  inflating: /content/Validation_Dataset/RoadAnomaly/labels_masks/37.png  \n",
            "  inflating: /content/Validation_Dataset/RoadAnomaly/labels_masks/23.png  \n",
            "  inflating: /content/Validation_Dataset/RoadAnomaly/labels_masks/27.png  \n",
            "  inflating: /content/Validation_Dataset/RoadAnomaly/labels_masks/33.png  \n",
            "  inflating: /content/Validation_Dataset/RoadAnomaly/labels_masks/32.png  \n",
            "  inflating: /content/Validation_Dataset/RoadAnomaly/labels_masks/26.png  \n",
            "  inflating: /content/Validation_Dataset/RoadAnomaly/labels_masks/18.png  \n",
            "  inflating: /content/Validation_Dataset/RoadAnomaly/labels_masks/30.png  \n",
            "  inflating: /content/Validation_Dataset/RoadAnomaly/labels_masks/24.png  \n",
            "  inflating: /content/Validation_Dataset/RoadAnomaly/labels_masks/25.png  \n",
            "  inflating: /content/Validation_Dataset/RoadAnomaly/labels_masks/31.png  \n",
            "  inflating: /content/Validation_Dataset/RoadAnomaly/labels_masks/19.png  \n",
            "  inflating: /content/Validation_Dataset/RoadAnomaly/labels_masks/4.png  \n",
            "  inflating: /content/Validation_Dataset/RoadAnomaly/labels_masks/56.png  \n",
            "  inflating: /content/Validation_Dataset/RoadAnomaly/labels_masks/42.png  \n",
            "  inflating: /content/Validation_Dataset/RoadAnomaly/labels_masks/43.png  \n",
            "  inflating: /content/Validation_Dataset/RoadAnomaly/labels_masks/5.png  \n",
            "  inflating: /content/Validation_Dataset/RoadAnomaly/labels_masks/57.png  \n",
            "  inflating: /content/Validation_Dataset/RoadAnomaly/labels_masks/41.png  \n",
            "  inflating: /content/Validation_Dataset/RoadAnomaly/labels_masks/55.png  \n",
            "  inflating: /content/Validation_Dataset/RoadAnomaly/labels_masks/7.png  \n",
            "  inflating: /content/Validation_Dataset/RoadAnomaly/labels_masks/54.png  \n",
            "  inflating: /content/Validation_Dataset/RoadAnomaly/labels_masks/6.png  \n",
            "  inflating: /content/Validation_Dataset/RoadAnomaly/labels_masks/40.png  \n",
            "  inflating: /content/Validation_Dataset/RoadAnomaly/labels_masks/44.png  \n",
            "  inflating: /content/Validation_Dataset/RoadAnomaly/labels_masks/2.png  \n",
            "  inflating: /content/Validation_Dataset/RoadAnomaly/labels_masks/50.png  \n",
            "  inflating: /content/Validation_Dataset/RoadAnomaly/labels_masks/3.png  \n",
            "  inflating: /content/Validation_Dataset/RoadAnomaly/labels_masks/51.png  \n",
            "  inflating: /content/Validation_Dataset/RoadAnomaly/labels_masks/45.png  \n",
            "  inflating: /content/Validation_Dataset/RoadAnomaly/labels_masks/53.png  \n",
            "  inflating: /content/Validation_Dataset/RoadAnomaly/labels_masks/1.png  \n",
            "  inflating: /content/Validation_Dataset/RoadAnomaly/labels_masks/47.png  \n",
            "  inflating: /content/Validation_Dataset/RoadAnomaly/labels_masks/46.png  \n",
            "  inflating: /content/Validation_Dataset/RoadAnomaly/labels_masks/52.png  \n",
            "  inflating: /content/Validation_Dataset/RoadAnomaly/labels_masks/0.png  \n",
            "  inflating: /content/Validation_Dataset/RoadObsticle21/images/15.webp  \n",
            "  inflating: /content/Validation_Dataset/RoadObsticle21/images/5.webp  \n",
            "  inflating: /content/Validation_Dataset/RoadObsticle21/images/19.webp  \n",
            "  inflating: /content/Validation_Dataset/RoadObsticle21/images/9.webp  \n",
            "  inflating: /content/Validation_Dataset/RoadObsticle21/images/23.webp  \n",
            "  inflating: /content/Validation_Dataset/RoadObsticle21/images/22.webp  \n",
            "  inflating: /content/Validation_Dataset/RoadObsticle21/images/8.webp  \n",
            "  inflating: /content/Validation_Dataset/RoadObsticle21/images/18.webp  \n",
            "  inflating: /content/Validation_Dataset/RoadObsticle21/images/4.webp  \n",
            "  inflating: /content/Validation_Dataset/RoadObsticle21/images/14.webp  \n",
            "  inflating: /content/Validation_Dataset/RoadObsticle21/images/25.webp  \n",
            "  inflating: /content/Validation_Dataset/RoadObsticle21/images/13.webp  \n",
            "  inflating: /content/Validation_Dataset/RoadObsticle21/images/3.webp  \n",
            "  inflating: /content/Validation_Dataset/RoadObsticle21/images/29.webp  \n",
            "  inflating: /content/Validation_Dataset/RoadObsticle21/images/28.webp  \n",
            "  inflating: /content/Validation_Dataset/RoadObsticle21/images/2.webp  \n",
            "  inflating: /content/Validation_Dataset/RoadObsticle21/images/12.webp  \n",
            "  inflating: /content/Validation_Dataset/RoadObsticle21/images/24.webp  \n",
            "  inflating: /content/Validation_Dataset/RoadObsticle21/images/27.webp  \n",
            "  inflating: /content/Validation_Dataset/RoadObsticle21/images/1.webp  \n",
            "  inflating: /content/Validation_Dataset/RoadObsticle21/images/11.webp  \n",
            "  inflating: /content/Validation_Dataset/RoadObsticle21/images/10.webp  \n",
            "  inflating: /content/Validation_Dataset/RoadObsticle21/images/0.webp  \n",
            "  inflating: /content/Validation_Dataset/RoadObsticle21/images/26.webp  \n",
            "  inflating: /content/Validation_Dataset/RoadObsticle21/images/7.webp  \n",
            "  inflating: /content/Validation_Dataset/RoadObsticle21/images/17.webp  \n",
            "  inflating: /content/Validation_Dataset/RoadObsticle21/images/21.webp  \n",
            "  inflating: /content/Validation_Dataset/RoadObsticle21/images/20.webp  \n",
            "  inflating: /content/Validation_Dataset/RoadObsticle21/images/16.webp  \n",
            "  inflating: /content/Validation_Dataset/RoadObsticle21/images/6.webp  \n",
            "  inflating: /content/Validation_Dataset/RoadObsticle21/labels_masks/8.png  \n",
            "  inflating: /content/Validation_Dataset/RoadObsticle21/labels_masks/9.png  \n",
            "  inflating: /content/Validation_Dataset/RoadObsticle21/labels_masks/14.png  \n",
            "  inflating: /content/Validation_Dataset/RoadObsticle21/labels_masks/28.png  \n",
            "  inflating: /content/Validation_Dataset/RoadObsticle21/labels_masks/29.png  \n",
            "  inflating: /content/Validation_Dataset/RoadObsticle21/labels_masks/15.png  \n",
            "  inflating: /content/Validation_Dataset/RoadObsticle21/labels_masks/17.png  \n",
            "  inflating: /content/Validation_Dataset/RoadObsticle21/labels_masks/16.png  \n",
            "  inflating: /content/Validation_Dataset/RoadObsticle21/labels_masks/12.png  \n",
            "  inflating: /content/Validation_Dataset/RoadObsticle21/labels_masks/13.png  \n",
            "  inflating: /content/Validation_Dataset/RoadObsticle21/labels_masks/11.png  \n",
            "  inflating: /content/Validation_Dataset/RoadObsticle21/labels_masks/10.png  \n",
            "  inflating: /content/Validation_Dataset/RoadObsticle21/labels_masks/21.png  \n",
            "  inflating: /content/Validation_Dataset/RoadObsticle21/labels_masks/20.png  \n",
            "  inflating: /content/Validation_Dataset/RoadObsticle21/labels_masks/22.png  \n",
            "  inflating: /content/Validation_Dataset/RoadObsticle21/labels_masks/23.png  \n",
            "  inflating: /content/Validation_Dataset/RoadObsticle21/labels_masks/27.png  \n",
            "  inflating: /content/Validation_Dataset/RoadObsticle21/labels_masks/26.png  \n",
            "  inflating: /content/Validation_Dataset/RoadObsticle21/labels_masks/18.png  \n",
            "  inflating: /content/Validation_Dataset/RoadObsticle21/labels_masks/24.png  \n",
            "  inflating: /content/Validation_Dataset/RoadObsticle21/labels_masks/25.png  \n",
            "  inflating: /content/Validation_Dataset/RoadObsticle21/labels_masks/19.png  \n",
            "  inflating: /content/Validation_Dataset/RoadObsticle21/labels_masks/4.png  \n",
            "  inflating: /content/Validation_Dataset/RoadObsticle21/labels_masks/5.png  \n",
            "  inflating: /content/Validation_Dataset/RoadObsticle21/labels_masks/7.png  \n",
            "  inflating: /content/Validation_Dataset/RoadObsticle21/labels_masks/6.png  \n",
            "  inflating: /content/Validation_Dataset/RoadObsticle21/labels_masks/2.png  \n",
            "  inflating: /content/Validation_Dataset/RoadObsticle21/labels_masks/3.png  \n",
            "  inflating: /content/Validation_Dataset/RoadObsticle21/labels_masks/1.png  \n",
            "  inflating: /content/Validation_Dataset/RoadObsticle21/labels_masks/0.png  \n",
            "  inflating: /content/Validation_Dataset/fs_static/images/8.jpg  \n",
            "  inflating: /content/Validation_Dataset/fs_static/images/9.jpg  \n",
            "  inflating: /content/Validation_Dataset/fs_static/images/14.jpg  \n",
            "  inflating: /content/Validation_Dataset/fs_static/images/28.jpg  \n",
            "  inflating: /content/Validation_Dataset/fs_static/images/29.jpg  \n",
            "  inflating: /content/Validation_Dataset/fs_static/images/15.jpg  \n",
            "  inflating: /content/Validation_Dataset/fs_static/images/17.jpg  \n",
            "  inflating: /content/Validation_Dataset/fs_static/images/16.jpg  \n",
            "  inflating: /content/Validation_Dataset/fs_static/images/12.jpg  \n",
            "  inflating: /content/Validation_Dataset/fs_static/images/13.jpg  \n",
            "  inflating: /content/Validation_Dataset/fs_static/images/11.jpg  \n",
            "  inflating: /content/Validation_Dataset/fs_static/images/10.jpg  \n",
            "  inflating: /content/Validation_Dataset/fs_static/images/21.jpg  \n",
            "  inflating: /content/Validation_Dataset/fs_static/images/20.jpg  \n",
            "  inflating: /content/Validation_Dataset/fs_static/images/22.jpg  \n",
            "  inflating: /content/Validation_Dataset/fs_static/images/23.jpg  \n",
            "  inflating: /content/Validation_Dataset/fs_static/images/27.jpg  \n",
            "  inflating: /content/Validation_Dataset/fs_static/images/26.jpg  \n",
            "  inflating: /content/Validation_Dataset/fs_static/images/18.jpg  \n",
            "  inflating: /content/Validation_Dataset/fs_static/images/24.jpg  \n",
            "  inflating: /content/Validation_Dataset/fs_static/images/25.jpg  \n",
            "  inflating: /content/Validation_Dataset/fs_static/images/19.jpg  \n",
            "  inflating: /content/Validation_Dataset/fs_static/images/4.jpg  \n",
            "  inflating: /content/Validation_Dataset/fs_static/images/5.jpg  \n",
            "  inflating: /content/Validation_Dataset/fs_static/images/7.jpg  \n",
            "  inflating: /content/Validation_Dataset/fs_static/images/6.jpg  \n",
            "  inflating: /content/Validation_Dataset/fs_static/images/2.jpg  \n",
            "  inflating: /content/Validation_Dataset/fs_static/images/3.jpg  \n",
            "  inflating: /content/Validation_Dataset/fs_static/images/1.jpg  \n",
            "  inflating: /content/Validation_Dataset/fs_static/images/0.jpg  \n",
            "  inflating: /content/Validation_Dataset/fs_static/labels_masks/8.png  \n",
            "  inflating: /content/Validation_Dataset/fs_static/labels_masks/9.png  \n",
            "  inflating: /content/Validation_Dataset/fs_static/labels_masks/14.png  \n",
            "  inflating: /content/Validation_Dataset/fs_static/labels_masks/28.png  \n",
            "  inflating: /content/Validation_Dataset/fs_static/labels_masks/29.png  \n",
            "  inflating: /content/Validation_Dataset/fs_static/labels_masks/15.png  \n",
            "  inflating: /content/Validation_Dataset/fs_static/labels_masks/17.png  \n",
            "  inflating: /content/Validation_Dataset/fs_static/labels_masks/16.png  \n",
            "  inflating: /content/Validation_Dataset/fs_static/labels_masks/12.png  \n",
            "  inflating: /content/Validation_Dataset/fs_static/labels_masks/13.png  \n",
            "  inflating: /content/Validation_Dataset/fs_static/labels_masks/11.png  \n",
            "  inflating: /content/Validation_Dataset/fs_static/labels_masks/10.png  \n",
            "  inflating: /content/Validation_Dataset/fs_static/labels_masks/21.png  \n",
            "  inflating: /content/Validation_Dataset/fs_static/labels_masks/20.png  \n",
            "  inflating: /content/Validation_Dataset/fs_static/labels_masks/22.png  \n",
            "  inflating: /content/Validation_Dataset/fs_static/labels_masks/23.png  \n",
            "  inflating: /content/Validation_Dataset/fs_static/labels_masks/27.png  \n",
            "  inflating: /content/Validation_Dataset/fs_static/labels_masks/26.png  \n",
            "  inflating: /content/Validation_Dataset/fs_static/labels_masks/18.png  \n",
            "  inflating: /content/Validation_Dataset/fs_static/labels_masks/24.png  \n",
            "  inflating: /content/Validation_Dataset/fs_static/labels_masks/25.png  \n",
            "  inflating: /content/Validation_Dataset/fs_static/labels_masks/19.png  \n",
            "  inflating: /content/Validation_Dataset/fs_static/labels_masks/4.png  \n",
            "  inflating: /content/Validation_Dataset/fs_static/labels_masks/5.png  \n",
            "  inflating: /content/Validation_Dataset/fs_static/labels_masks/7.png  \n",
            "  inflating: /content/Validation_Dataset/fs_static/labels_masks/6.png  \n",
            "  inflating: /content/Validation_Dataset/fs_static/labels_masks/2.png  \n",
            "  inflating: /content/Validation_Dataset/fs_static/labels_masks/3.png  \n",
            "  inflating: /content/Validation_Dataset/fs_static/labels_masks/1.png  \n",
            "  inflating: /content/Validation_Dataset/fs_static/labels_masks/0.png  \n",
            "  inflating: /content/Validation_Dataset/FS_LostFound_full/images/88.png  \n",
            "  inflating: /content/Validation_Dataset/FS_LostFound_full/images/77.png  \n",
            "  inflating: /content/Validation_Dataset/FS_LostFound_full/images/63.png  \n",
            "  inflating: /content/Validation_Dataset/FS_LostFound_full/images/62.png  \n",
            "  inflating: /content/Validation_Dataset/FS_LostFound_full/images/76.png  \n",
            "  inflating: /content/Validation_Dataset/FS_LostFound_full/images/89.png  \n",
            "  inflating: /content/Validation_Dataset/FS_LostFound_full/images/60.png  \n",
            "  inflating: /content/Validation_Dataset/FS_LostFound_full/images/74.png  \n",
            "  inflating: /content/Validation_Dataset/FS_LostFound_full/images/48.png  \n",
            "  inflating: /content/Validation_Dataset/FS_LostFound_full/images/49.png  \n",
            "  inflating: /content/Validation_Dataset/FS_LostFound_full/images/75.png  \n",
            "  inflating: /content/Validation_Dataset/FS_LostFound_full/images/61.png  \n",
            "  inflating: /content/Validation_Dataset/FS_LostFound_full/images/59.png  \n",
            "  inflating: /content/Validation_Dataset/FS_LostFound_full/images/65.png  \n",
            "  inflating: /content/Validation_Dataset/FS_LostFound_full/images/71.png  \n",
            "  inflating: /content/Validation_Dataset/FS_LostFound_full/images/70.png  \n",
            "  inflating: /content/Validation_Dataset/FS_LostFound_full/images/64.png  \n",
            "  inflating: /content/Validation_Dataset/FS_LostFound_full/images/58.png  \n",
            "  inflating: /content/Validation_Dataset/FS_LostFound_full/images/99.png  \n",
            "  inflating: /content/Validation_Dataset/FS_LostFound_full/images/8.png  \n",
            "  inflating: /content/Validation_Dataset/FS_LostFound_full/images/72.png  \n",
            "  inflating: /content/Validation_Dataset/FS_LostFound_full/images/66.png  \n",
            "  inflating: /content/Validation_Dataset/FS_LostFound_full/images/67.png  \n",
            "  inflating: /content/Validation_Dataset/FS_LostFound_full/images/73.png  \n",
            "  inflating: /content/Validation_Dataset/FS_LostFound_full/images/9.png  \n",
            "  inflating: /content/Validation_Dataset/FS_LostFound_full/images/98.png  \n",
            "  inflating: /content/Validation_Dataset/FS_LostFound_full/images/14.png  \n",
            "  inflating: /content/Validation_Dataset/FS_LostFound_full/images/28.png  \n",
            "  inflating: /content/Validation_Dataset/FS_LostFound_full/images/29.png  \n",
            "  inflating: /content/Validation_Dataset/FS_LostFound_full/images/15.png  \n",
            "  inflating: /content/Validation_Dataset/FS_LostFound_full/images/17.png  \n",
            "  inflating: /content/Validation_Dataset/FS_LostFound_full/images/16.png  \n",
            "  inflating: /content/Validation_Dataset/FS_LostFound_full/images/12.png  \n",
            "  inflating: /content/Validation_Dataset/FS_LostFound_full/images/13.png  \n",
            "  inflating: /content/Validation_Dataset/FS_LostFound_full/images/39.png  \n",
            "  inflating: /content/Validation_Dataset/FS_LostFound_full/images/11.png  \n",
            "  inflating: /content/Validation_Dataset/FS_LostFound_full/images/10.png  \n",
            "  inflating: /content/Validation_Dataset/FS_LostFound_full/images/38.png  \n",
            "  inflating: /content/Validation_Dataset/FS_LostFound_full/images/35.png  \n",
            "  inflating: /content/Validation_Dataset/FS_LostFound_full/images/21.png  \n",
            "  inflating: /content/Validation_Dataset/FS_LostFound_full/images/20.png  \n",
            "  inflating: /content/Validation_Dataset/FS_LostFound_full/images/34.png  \n",
            "  inflating: /content/Validation_Dataset/FS_LostFound_full/images/22.png  \n",
            "  inflating: /content/Validation_Dataset/FS_LostFound_full/images/36.png  \n",
            "  inflating: /content/Validation_Dataset/FS_LostFound_full/images/37.png  \n",
            "  inflating: /content/Validation_Dataset/FS_LostFound_full/images/23.png  \n",
            "  inflating: /content/Validation_Dataset/FS_LostFound_full/images/27.png  \n",
            "  inflating: /content/Validation_Dataset/FS_LostFound_full/images/33.png  \n",
            "  inflating: /content/Validation_Dataset/FS_LostFound_full/images/32.png  \n",
            "  inflating: /content/Validation_Dataset/FS_LostFound_full/images/26.png  \n",
            "  inflating: /content/Validation_Dataset/FS_LostFound_full/images/18.png  \n",
            "  inflating: /content/Validation_Dataset/FS_LostFound_full/images/30.png  \n",
            "  inflating: /content/Validation_Dataset/FS_LostFound_full/images/24.png  \n",
            "  inflating: /content/Validation_Dataset/FS_LostFound_full/images/25.png  \n",
            "  inflating: /content/Validation_Dataset/FS_LostFound_full/images/31.png  \n",
            "  inflating: /content/Validation_Dataset/FS_LostFound_full/images/19.png  \n",
            "  inflating: /content/Validation_Dataset/FS_LostFound_full/images/95.png  \n",
            "  inflating: /content/Validation_Dataset/FS_LostFound_full/images/81.png  \n",
            "  inflating: /content/Validation_Dataset/FS_LostFound_full/images/4.png  \n",
            "  inflating: /content/Validation_Dataset/FS_LostFound_full/images/56.png  \n",
            "  inflating: /content/Validation_Dataset/FS_LostFound_full/images/42.png  \n",
            "  inflating: /content/Validation_Dataset/FS_LostFound_full/images/43.png  \n",
            "  inflating: /content/Validation_Dataset/FS_LostFound_full/images/5.png  \n",
            "  inflating: /content/Validation_Dataset/FS_LostFound_full/images/57.png  \n",
            "  inflating: /content/Validation_Dataset/FS_LostFound_full/images/80.png  \n",
            "  inflating: /content/Validation_Dataset/FS_LostFound_full/images/94.png  \n",
            "  inflating: /content/Validation_Dataset/FS_LostFound_full/images/82.png  \n",
            "  inflating: /content/Validation_Dataset/FS_LostFound_full/images/96.png  \n",
            "  inflating: /content/Validation_Dataset/FS_LostFound_full/images/41.png  \n",
            "  inflating: /content/Validation_Dataset/FS_LostFound_full/images/55.png  \n",
            "  inflating: /content/Validation_Dataset/FS_LostFound_full/images/7.png  \n",
            "  inflating: /content/Validation_Dataset/FS_LostFound_full/images/69.png  \n",
            "  inflating: /content/Validation_Dataset/FS_LostFound_full/images/68.png  \n",
            "  inflating: /content/Validation_Dataset/FS_LostFound_full/images/54.png  \n",
            "  inflating: /content/Validation_Dataset/FS_LostFound_full/images/6.png  \n",
            "  inflating: /content/Validation_Dataset/FS_LostFound_full/images/40.png  \n",
            "  inflating: /content/Validation_Dataset/FS_LostFound_full/images/97.png  \n",
            "  inflating: /content/Validation_Dataset/FS_LostFound_full/images/83.png  \n",
            "  inflating: /content/Validation_Dataset/FS_LostFound_full/images/87.png  \n",
            "  inflating: /content/Validation_Dataset/FS_LostFound_full/images/93.png  \n",
            "  inflating: /content/Validation_Dataset/FS_LostFound_full/images/78.png  \n",
            "  inflating: /content/Validation_Dataset/FS_LostFound_full/images/44.png  \n",
            "  inflating: /content/Validation_Dataset/FS_LostFound_full/images/2.png  \n",
            "  inflating: /content/Validation_Dataset/FS_LostFound_full/images/50.png  \n",
            "  inflating: /content/Validation_Dataset/FS_LostFound_full/images/3.png  \n",
            "  inflating: /content/Validation_Dataset/FS_LostFound_full/images/51.png  \n",
            "  inflating: /content/Validation_Dataset/FS_LostFound_full/images/45.png  \n",
            "  inflating: /content/Validation_Dataset/FS_LostFound_full/images/79.png  \n",
            "  inflating: /content/Validation_Dataset/FS_LostFound_full/images/92.png  \n",
            "  inflating: /content/Validation_Dataset/FS_LostFound_full/images/86.png  \n",
            "  inflating: /content/Validation_Dataset/FS_LostFound_full/images/90.png  \n",
            "  inflating: /content/Validation_Dataset/FS_LostFound_full/images/84.png  \n",
            "  inflating: /content/Validation_Dataset/FS_LostFound_full/images/53.png  \n",
            "  inflating: /content/Validation_Dataset/FS_LostFound_full/images/1.png  \n",
            "  inflating: /content/Validation_Dataset/FS_LostFound_full/images/47.png  \n",
            "  inflating: /content/Validation_Dataset/FS_LostFound_full/images/46.png  \n",
            "  inflating: /content/Validation_Dataset/FS_LostFound_full/images/52.png  \n",
            "  inflating: /content/Validation_Dataset/FS_LostFound_full/images/0.png  \n",
            "  inflating: /content/Validation_Dataset/FS_LostFound_full/images/85.png  \n",
            "  inflating: /content/Validation_Dataset/FS_LostFound_full/images/91.png  \n",
            "  inflating: /content/Validation_Dataset/FS_LostFound_full/labels_masks/88.png  \n",
            "  inflating: /content/Validation_Dataset/FS_LostFound_full/labels_masks/77.png  \n",
            "  inflating: /content/Validation_Dataset/FS_LostFound_full/labels_masks/63.png  \n",
            "  inflating: /content/Validation_Dataset/FS_LostFound_full/labels_masks/62.png  \n",
            "  inflating: /content/Validation_Dataset/FS_LostFound_full/labels_masks/76.png  \n",
            "  inflating: /content/Validation_Dataset/FS_LostFound_full/labels_masks/89.png  \n",
            "  inflating: /content/Validation_Dataset/FS_LostFound_full/labels_masks/60.png  \n",
            "  inflating: /content/Validation_Dataset/FS_LostFound_full/labels_masks/74.png  \n",
            "  inflating: /content/Validation_Dataset/FS_LostFound_full/labels_masks/48.png  \n",
            "  inflating: /content/Validation_Dataset/FS_LostFound_full/labels_masks/49.png  \n",
            "  inflating: /content/Validation_Dataset/FS_LostFound_full/labels_masks/75.png  \n",
            "  inflating: /content/Validation_Dataset/FS_LostFound_full/labels_masks/61.png  \n",
            "  inflating: /content/Validation_Dataset/FS_LostFound_full/labels_masks/59.png  \n",
            "  inflating: /content/Validation_Dataset/FS_LostFound_full/labels_masks/65.png  \n",
            "  inflating: /content/Validation_Dataset/FS_LostFound_full/labels_masks/71.png  \n",
            "  inflating: /content/Validation_Dataset/FS_LostFound_full/labels_masks/70.png  \n",
            "  inflating: /content/Validation_Dataset/FS_LostFound_full/labels_masks/64.png  \n",
            "  inflating: /content/Validation_Dataset/FS_LostFound_full/labels_masks/58.png  \n",
            "  inflating: /content/Validation_Dataset/FS_LostFound_full/labels_masks/99.png  \n",
            "  inflating: /content/Validation_Dataset/FS_LostFound_full/labels_masks/8.png  \n",
            "  inflating: /content/Validation_Dataset/FS_LostFound_full/labels_masks/72.png  \n",
            "  inflating: /content/Validation_Dataset/FS_LostFound_full/labels_masks/66.png  \n",
            "  inflating: /content/Validation_Dataset/FS_LostFound_full/labels_masks/67.png  \n",
            "  inflating: /content/Validation_Dataset/FS_LostFound_full/labels_masks/73.png  \n",
            "  inflating: /content/Validation_Dataset/FS_LostFound_full/labels_masks/9.png  \n",
            "  inflating: /content/Validation_Dataset/FS_LostFound_full/labels_masks/98.png  \n",
            "  inflating: /content/Validation_Dataset/FS_LostFound_full/labels_masks/14.png  \n",
            "  inflating: /content/Validation_Dataset/FS_LostFound_full/labels_masks/28.png  \n",
            "  inflating: /content/Validation_Dataset/FS_LostFound_full/labels_masks/29.png  \n",
            "  inflating: /content/Validation_Dataset/FS_LostFound_full/labels_masks/15.png  \n",
            "  inflating: /content/Validation_Dataset/FS_LostFound_full/labels_masks/17.png  \n",
            "  inflating: /content/Validation_Dataset/FS_LostFound_full/labels_masks/16.png  \n",
            "  inflating: /content/Validation_Dataset/FS_LostFound_full/labels_masks/12.png  \n",
            "  inflating: /content/Validation_Dataset/FS_LostFound_full/labels_masks/13.png  \n",
            "  inflating: /content/Validation_Dataset/FS_LostFound_full/labels_masks/39.png  \n",
            "  inflating: /content/Validation_Dataset/FS_LostFound_full/labels_masks/11.png  \n",
            "  inflating: /content/Validation_Dataset/FS_LostFound_full/labels_masks/10.png  \n",
            "  inflating: /content/Validation_Dataset/FS_LostFound_full/labels_masks/38.png  \n",
            "  inflating: /content/Validation_Dataset/FS_LostFound_full/labels_masks/35.png  \n",
            "  inflating: /content/Validation_Dataset/FS_LostFound_full/labels_masks/21.png  \n",
            "  inflating: /content/Validation_Dataset/FS_LostFound_full/labels_masks/20.png  \n",
            "  inflating: /content/Validation_Dataset/FS_LostFound_full/labels_masks/34.png  \n",
            "  inflating: /content/Validation_Dataset/FS_LostFound_full/labels_masks/22.png  \n",
            "  inflating: /content/Validation_Dataset/FS_LostFound_full/labels_masks/36.png  \n",
            "  inflating: /content/Validation_Dataset/FS_LostFound_full/labels_masks/37.png  \n",
            "  inflating: /content/Validation_Dataset/FS_LostFound_full/labels_masks/23.png  \n",
            "  inflating: /content/Validation_Dataset/FS_LostFound_full/labels_masks/27.png  \n",
            "  inflating: /content/Validation_Dataset/FS_LostFound_full/labels_masks/33.png  \n",
            "  inflating: /content/Validation_Dataset/FS_LostFound_full/labels_masks/32.png  \n",
            "  inflating: /content/Validation_Dataset/FS_LostFound_full/labels_masks/26.png  \n",
            "  inflating: /content/Validation_Dataset/FS_LostFound_full/labels_masks/18.png  \n",
            "  inflating: /content/Validation_Dataset/FS_LostFound_full/labels_masks/30.png  \n",
            "  inflating: /content/Validation_Dataset/FS_LostFound_full/labels_masks/24.png  \n",
            "  inflating: /content/Validation_Dataset/FS_LostFound_full/labels_masks/25.png  \n",
            "  inflating: /content/Validation_Dataset/FS_LostFound_full/labels_masks/31.png  \n",
            "  inflating: /content/Validation_Dataset/FS_LostFound_full/labels_masks/19.png  \n",
            "  inflating: /content/Validation_Dataset/FS_LostFound_full/labels_masks/95.png  \n",
            "  inflating: /content/Validation_Dataset/FS_LostFound_full/labels_masks/81.png  \n",
            "  inflating: /content/Validation_Dataset/FS_LostFound_full/labels_masks/4.png  \n",
            "  inflating: /content/Validation_Dataset/FS_LostFound_full/labels_masks/56.png  \n",
            "  inflating: /content/Validation_Dataset/FS_LostFound_full/labels_masks/42.png  \n",
            "  inflating: /content/Validation_Dataset/FS_LostFound_full/labels_masks/43.png  \n",
            "  inflating: /content/Validation_Dataset/FS_LostFound_full/labels_masks/5.png  \n",
            "  inflating: /content/Validation_Dataset/FS_LostFound_full/labels_masks/57.png  \n",
            "  inflating: /content/Validation_Dataset/FS_LostFound_full/labels_masks/80.png  \n",
            "  inflating: /content/Validation_Dataset/FS_LostFound_full/labels_masks/94.png  \n",
            "  inflating: /content/Validation_Dataset/FS_LostFound_full/labels_masks/82.png  \n",
            "  inflating: /content/Validation_Dataset/FS_LostFound_full/labels_masks/96.png  \n",
            "  inflating: /content/Validation_Dataset/FS_LostFound_full/labels_masks/41.png  \n",
            "  inflating: /content/Validation_Dataset/FS_LostFound_full/labels_masks/55.png  \n",
            "  inflating: /content/Validation_Dataset/FS_LostFound_full/labels_masks/7.png  \n",
            "  inflating: /content/Validation_Dataset/FS_LostFound_full/labels_masks/69.png  \n",
            "  inflating: /content/Validation_Dataset/FS_LostFound_full/labels_masks/68.png  \n",
            "  inflating: /content/Validation_Dataset/FS_LostFound_full/labels_masks/54.png  \n",
            "  inflating: /content/Validation_Dataset/FS_LostFound_full/labels_masks/6.png  \n",
            "  inflating: /content/Validation_Dataset/FS_LostFound_full/labels_masks/40.png  \n",
            "  inflating: /content/Validation_Dataset/FS_LostFound_full/labels_masks/97.png  \n",
            "  inflating: /content/Validation_Dataset/FS_LostFound_full/labels_masks/83.png  \n",
            "  inflating: /content/Validation_Dataset/FS_LostFound_full/labels_masks/87.png  \n",
            "  inflating: /content/Validation_Dataset/FS_LostFound_full/labels_masks/93.png  \n",
            "  inflating: /content/Validation_Dataset/FS_LostFound_full/labels_masks/78.png  \n",
            "  inflating: /content/Validation_Dataset/FS_LostFound_full/labels_masks/44.png  \n",
            "  inflating: /content/Validation_Dataset/FS_LostFound_full/labels_masks/2.png  \n",
            "  inflating: /content/Validation_Dataset/FS_LostFound_full/labels_masks/50.png  \n",
            "  inflating: /content/Validation_Dataset/FS_LostFound_full/labels_masks/3.png  \n",
            "  inflating: /content/Validation_Dataset/FS_LostFound_full/labels_masks/51.png  \n",
            "  inflating: /content/Validation_Dataset/FS_LostFound_full/labels_masks/45.png  \n",
            "  inflating: /content/Validation_Dataset/FS_LostFound_full/labels_masks/79.png  \n",
            "  inflating: /content/Validation_Dataset/FS_LostFound_full/labels_masks/92.png  \n",
            "  inflating: /content/Validation_Dataset/FS_LostFound_full/labels_masks/86.png  \n",
            "  inflating: /content/Validation_Dataset/FS_LostFound_full/labels_masks/90.png  \n",
            "  inflating: /content/Validation_Dataset/FS_LostFound_full/labels_masks/84.png  \n",
            "  inflating: /content/Validation_Dataset/FS_LostFound_full/labels_masks/53.png  \n",
            "  inflating: /content/Validation_Dataset/FS_LostFound_full/labels_masks/1.png  \n",
            "  inflating: /content/Validation_Dataset/FS_LostFound_full/labels_masks/47.png  \n",
            "  inflating: /content/Validation_Dataset/FS_LostFound_full/labels_masks/46.png  \n",
            "  inflating: /content/Validation_Dataset/FS_LostFound_full/labels_masks/52.png  \n",
            "  inflating: /content/Validation_Dataset/FS_LostFound_full/labels_masks/0.png  \n",
            "  inflating: /content/Validation_Dataset/FS_LostFound_full/labels_masks/85.png  \n",
            "  inflating: /content/Validation_Dataset/FS_LostFound_full/labels_masks/91.png  \n"
          ]
        }
      ],
      "source": [
        "!unzip /content/Validation_Dataset.zip -d /content"
      ]
    },
    {
      "cell_type": "markdown",
      "metadata": {
        "id": "D2sYnrBrix17"
      },
      "source": [
        "# Perform anomaly inferences on:\n",
        "  - RoadAnomaly21\n",
        "  - RoadObsticle21\n",
        "  - Fs_static\n",
        "  - fs L&F\n",
        "  - Road Anomaly\n",
        "\n"
      ]
    },
    {
      "cell_type": "code",
      "source": [
        "%cd /content/AnomalySegmentation_AML/eval/"
      ],
      "metadata": {
        "id": "6qwKrQ_XOf2E"
      },
      "execution_count": null,
      "outputs": []
    },
    {
      "cell_type": "markdown",
      "metadata": {
        "id": "YP3s4ndZYIbK"
      },
      "source": [
        "* Commands for evalutation with Method MSP\n",
        "\n",
        "\n"
      ]
    },
    {
      "cell_type": "code",
      "execution_count": null,
      "metadata": {
        "id": "iCrcDAz-s-ZF"
      },
      "outputs": [],
      "source": [
        "!python evalAnomaly.py --input \"/content/Validation_Dataset/RoadAnomaly21/images/*.png\""
      ]
    },
    {
      "cell_type": "code",
      "execution_count": null,
      "metadata": {
        "id": "t-HMqYCDthjA"
      },
      "outputs": [],
      "source": [
        "!python evalAnomaly.py --input \"/content/Validation_Dataset/RoadObsticle21/images/*.webp\""
      ]
    },
    {
      "cell_type": "code",
      "execution_count": null,
      "metadata": {
        "id": "GYYKkSJltotw"
      },
      "outputs": [],
      "source": [
        "!python evalAnomaly.py --input \"/content/Validation_Dataset/RoadAnomaly/images/*.jpg\""
      ]
    },
    {
      "cell_type": "code",
      "execution_count": null,
      "metadata": {
        "id": "ZijjixwhuOJR"
      },
      "outputs": [],
      "source": [
        "!python evalAnomaly.py --input \"/content/Validation_Dataset/fs_static/images/*.jpg\""
      ]
    },
    {
      "cell_type": "code",
      "execution_count": null,
      "metadata": {
        "id": "5QmGU75iuSP0"
      },
      "outputs": [],
      "source": [
        "!python evalAnomaly.py --input \"/content/Validation_Dataset/FS_LostFound_full/images/*.png\""
      ]
    },
    {
      "cell_type": "markdown",
      "metadata": {
        "id": "upnSMKOfkROy"
      },
      "source": [
        "* Commands for evalutation with MaxLogit:\n",
        "  - resource: https://proceedings.mlr.press/v162/hendrycks22a/hendrycks22a.pdf\n",
        "\n"
      ]
    },
    {
      "cell_type": "code",
      "execution_count": null,
      "metadata": {
        "id": "QCZqK24UjCW-"
      },
      "outputs": [],
      "source": [
        "!python evalAnomaly.py --method 'MaxLogit' --input \"/content/Validation_Dataset/RoadAnomaly21/images/*.png\""
      ]
    },
    {
      "cell_type": "code",
      "execution_count": null,
      "metadata": {
        "id": "swhpdvfKjdX8"
      },
      "outputs": [],
      "source": [
        "!python evalAnomaly.py --method 'MaxLogit' --input \"/content/Validation_Dataset/RoadObsticle21/images/*.webp\""
      ]
    },
    {
      "cell_type": "code",
      "execution_count": null,
      "metadata": {
        "id": "2NOtq9pcjd3m"
      },
      "outputs": [],
      "source": [
        "!python evalAnomaly.py --method 'MaxLogit' --input \"/content/Validation_Dataset/RoadAnomaly/images/*.jpg\""
      ]
    },
    {
      "cell_type": "code",
      "execution_count": null,
      "metadata": {
        "id": "sS35cpC6jeNr"
      },
      "outputs": [],
      "source": [
        "!python evalAnomaly.py --method 'MaxLogit' --input \"/content/Validation_Dataset/fs_static/images/*.jpg\""
      ]
    },
    {
      "cell_type": "code",
      "execution_count": null,
      "metadata": {
        "id": "0vrgvzRQjekP"
      },
      "outputs": [],
      "source": [
        "!python evalAnomaly.py --method 'MaxLogit' --input \"/content/Validation_Dataset/FS_LostFound_full/images/*.png\""
      ]
    },
    {
      "cell_type": "markdown",
      "metadata": {
        "id": "MU6l8LRpnYv4"
      },
      "source": [
        "* Commands for evalutation with MaxEntropy\n",
        "  * resource: https://github.com/SegmentMeIfYouCan/road-anomaly-benchmark/blob/master/methods/baselines.py#L85"
      ]
    },
    {
      "cell_type": "code",
      "execution_count": null,
      "metadata": {
        "id": "3GrQ1721kXXp"
      },
      "outputs": [],
      "source": [
        "!python evalAnomaly.py --method 'MaxEntropy' --input \"/content/Validation_Dataset/RoadAnomaly21/images/*.png\""
      ]
    },
    {
      "cell_type": "code",
      "execution_count": null,
      "metadata": {
        "id": "pD8dp4qNkbcR"
      },
      "outputs": [],
      "source": [
        "!python evalAnomaly.py --method 'MaxEntropy' --input \"/content/Validation_Dataset/RoadObsticle21/images/*.webp\""
      ]
    },
    {
      "cell_type": "code",
      "execution_count": null,
      "metadata": {
        "id": "7c7xjfSOkc8K"
      },
      "outputs": [],
      "source": [
        "!python evalAnomaly.py --method 'MaxEntropy' --input \"/content/Validation_Dataset/RoadAnomaly/images/*.jpg\""
      ]
    },
    {
      "cell_type": "code",
      "execution_count": null,
      "metadata": {
        "id": "rNrDR2tRkedQ"
      },
      "outputs": [],
      "source": [
        "!python evalAnomaly.py --method 'MaxEntropy' --input \"/content/Validation_Dataset/fs_static/images/*.jpg\""
      ]
    },
    {
      "cell_type": "code",
      "execution_count": null,
      "metadata": {
        "id": "PzGQ4LJXkf9I"
      },
      "outputs": [],
      "source": [
        "!python evalAnomaly.py --method 'MaxEntropy' --input \"/content/Validation_Dataset/FS_LostFound_full/images/*.png\""
      ]
    },
    {
      "cell_type": "markdown",
      "metadata": {
        "id": "npcgSbp6navQ"
      },
      "source": [
        "* Commands for evalutation with Temperature scaling:\n",
        "  * resource: : https://github.com/gpleiss/temperature_scaling"
      ]
    },
    {
      "cell_type": "markdown",
      "metadata": {
        "id": "cRwiYMNC0SSN"
      },
      "source": [
        "T = 0.5"
      ]
    },
    {
      "cell_type": "code",
      "execution_count": null,
      "metadata": {
        "id": "j4JIfvxjnqdJ"
      },
      "outputs": [],
      "source": [
        "!python evalAnomaly.py --method 'MSPT' --temp 0.5 --input \"/content/Validation_Dataset/RoadAnomaly21/images/*.png\""
      ]
    },
    {
      "cell_type": "code",
      "execution_count": null,
      "metadata": {
        "id": "b9nBGMUq0yxX"
      },
      "outputs": [],
      "source": [
        "!python evalAnomaly.py --method 'MSPT' --temp 0.5 --input \"/content/Validation_Dataset/RoadObsticle21/images/*.webp\""
      ]
    },
    {
      "cell_type": "code",
      "execution_count": null,
      "metadata": {
        "id": "08gY0aAk1aWu"
      },
      "outputs": [],
      "source": [
        "!python evalAnomaly.py --method 'MSPT' --temp 0.5 --input \"/content/Validation_Dataset/RoadAnomaly/images/*.jpg\""
      ]
    },
    {
      "cell_type": "code",
      "execution_count": null,
      "metadata": {
        "id": "nhVnvNk01r5l"
      },
      "outputs": [],
      "source": [
        "!python evalAnomaly.py --method 'MSPT' --temp 0.5 --input \"/content/Validation_Dataset/fs_static/images/*.jpg\""
      ]
    },
    {
      "cell_type": "code",
      "execution_count": null,
      "metadata": {
        "colab": {
          "background_save": true
        },
        "id": "wvB7lI0e1vnN"
      },
      "outputs": [],
      "source": [
        "!python evalAnomaly.py --method 'MSPT' --temp 0.5 --input \"/content/Validation_Dataset/FS_LostFound_full/images/*.png\""
      ]
    },
    {
      "cell_type": "markdown",
      "metadata": {
        "id": "vDYAtwsf0h5a"
      },
      "source": [
        "T = 0.75"
      ]
    },
    {
      "cell_type": "code",
      "execution_count": null,
      "metadata": {
        "id": "X1H81Uqqn0Xy"
      },
      "outputs": [],
      "source": [
        "!python evalAnomaly.py --method 'MSPT' --temp 0.75 --input \"/content/Validation_Dataset/RoadAnomaly21/images/*.png\""
      ]
    },
    {
      "cell_type": "code",
      "execution_count": null,
      "metadata": {
        "id": "rgNSn0NV23ID"
      },
      "outputs": [],
      "source": [
        "!python evalAnomaly.py --method 'MSPT' --temp 0.75 --input \"/content/Validation_Dataset/RoadObsticle21/images/*.webp\""
      ]
    },
    {
      "cell_type": "code",
      "execution_count": null,
      "metadata": {
        "id": "lxC6GPM63uEI"
      },
      "outputs": [],
      "source": [
        "!python evalAnomaly.py --method 'MSPT' --temp 0.75 --input \"/content/Validation_Dataset/RoadAnomaly/images/*.jpg\""
      ]
    },
    {
      "cell_type": "code",
      "execution_count": null,
      "metadata": {
        "id": "MwXrpSkF3zFB"
      },
      "outputs": [],
      "source": [
        "!python evalAnomaly.py --method 'MSPT' --temp 0.75 --input \"/content/Validation_Dataset/fs_static/images/*.jpg\""
      ]
    },
    {
      "cell_type": "code",
      "execution_count": null,
      "metadata": {
        "id": "SCpobwPc3z9_"
      },
      "outputs": [],
      "source": [
        "!python evalAnomaly.py --method 'MSPT' --temp 0.75 --input \"/content/Validation_Dataset/FS_LostFound_full/images/*.png\""
      ]
    },
    {
      "cell_type": "markdown",
      "metadata": {
        "id": "krRY2NWU0kOR"
      },
      "source": [
        "T = 1.1"
      ]
    },
    {
      "cell_type": "code",
      "execution_count": null,
      "metadata": {
        "id": "fY5DRDa3n1FW"
      },
      "outputs": [],
      "source": [
        "!python evalAnomaly.py --method 'MSPT' --temp 1.1 --input \"/content/Validation_Dataset/RoadAnomaly21/images/*.png\""
      ]
    },
    {
      "cell_type": "code",
      "execution_count": null,
      "metadata": {
        "id": "xjviBOOk5LG-"
      },
      "outputs": [],
      "source": [
        "!python evalAnomaly.py --method 'MSPT' --temp 1.1 --input \"/content/Validation_Dataset/RoadObsticle21/images/*.webp\""
      ]
    },
    {
      "cell_type": "code",
      "execution_count": null,
      "metadata": {
        "id": "Oefv0M8Cu-LK"
      },
      "outputs": [],
      "source": [
        "!python evalAnomaly.py --method 'MSPT' --temp 1.1 --input \"/content/Validation_Dataset/RoadAnomaly/images/*.jpg\""
      ]
    },
    {
      "cell_type": "code",
      "execution_count": null,
      "metadata": {
        "id": "As0oOS2u5BTx"
      },
      "outputs": [],
      "source": [
        "!python evalAnomaly.py --method 'MSPT' --temp 1.1 --input \"/content/Validation_Dataset/fs_static/images/*.jpg\""
      ]
    },
    {
      "cell_type": "code",
      "execution_count": null,
      "metadata": {
        "id": "QHeIAJkM5QlZ"
      },
      "outputs": [],
      "source": [
        "!python evalAnomaly.py --method 'MSPT' --temp 1.1 --input \"/content/Validation_Dataset/FS_LostFound_full/images/*.png\""
      ]
    },
    {
      "cell_type": "markdown",
      "metadata": {
        "id": "chdM38YXpslv"
      },
      "source": [
        "# Finding the Best Temperature\n",
        "* trying range [0.1 - 2.0]"
      ]
    },
    {
      "cell_type": "code",
      "execution_count": null,
      "metadata": {
        "id": "cO4bT7x3pux0"
      },
      "outputs": [],
      "source": [
        "import subprocess\n",
        "import re\n",
        "import numpy as np\n",
        "\n",
        "AuPRC_array = []\n",
        "fpr_at_95_tpr = []\n",
        "AuPRC_dict = {temp: 0.0 for temp in np.arange(0.1, 2.1, 0.1)}\n",
        "fpr_at_95_tpr_dict = {temp: 0.0 for temp in np.arange(0.1, 2.1, 0.1)}\n",
        "\n",
        "dataset_paths = [\n",
        "    \"/content/Validation_Dataset/RoadAnomaly21/images/*.png\",\n",
        "    \"/content/Validation_Dataset/RoadObsticle21/images/*.webp\",\n",
        "    \"/content/Validation_Dataset/RoadAnomaly/images/*.jpg\",\n",
        "    \"/content/Validation_Dataset/fs_static/images/*.jpg\",\n",
        "    \"/content/Validation_Dataset/FS_LostFound_full/images/*.png\",\n",
        "]\n",
        "\n",
        "\n",
        "for temp in np.arange(0.1, 2.1, 0.1): # finding the best temperatures from 0.1 and 2.0\n",
        "  for input in dataset_paths:\n",
        "    command = f\"python evalAnomaly.py --method 'MSPT' --temp {temp} --input '{input}'\"\n",
        "    print(f\"Command: {command}\")\n",
        "    result = subprocess.run(command, shell=True, capture_output=True, text=True)\n",
        "    if result.returncode != 0:\n",
        "      print(f\"Error while executing the command. Returned code: {result.returncode}\")\n",
        "      print(f\"Error output:\\n{result.stderr.decode('utf-8')}\")\n",
        "\n",
        "    output = result.stdout\n",
        "    print(output)\n",
        "\n",
        "    # Try with regular expression to retrieve decimal value\n",
        "    prc_auc_match = re.search(r'AUPRC score: (\\d+\\.\\d+)', output)\n",
        "    fpr_match = re.search(r'FPR@TPR95: (\\d+\\.\\d+)', output)\n",
        "\n",
        "    if prc_auc_match and fpr_match:\n",
        "      prc_auc = float(prc_auc_match.group(1)) # Return the string matched by the RE\n",
        "      fpr = float(fpr_match.group(1))\n",
        "      AuPRC_array.append((temp,prc_auc))\n",
        "      fpr_at_95_tpr.append((temp, fpr))\n",
        "\n",
        "      AuPRC_dict[temp] += prc_auc\n",
        "      fpr_at_95_tpr_dict[temp] += fpr\n",
        "\n",
        "\n",
        "#compute Avg for AuPRC for each temp\n",
        "avg_AuPRC = [(temp, total / len(dataset_paths)) for temp, total in AuPRC_dict.items()]\n",
        "print('avg_AuPRC: ', avg_AuPRC)\n",
        "\n",
        "#compute Avg for fpr_at_95_tpr for each temp\n",
        "avg_fpr_at_95_tpr = [(temp, total /len(dataset_paths)) for temp, total in fpr_at_95_tpr_dict.items()]\n",
        "print('avg_fpr_at_95_tpr: ', avg_fpr_at_95_tpr)\n",
        "\n"
      ]
    },
    {
      "cell_type": "markdown",
      "metadata": {
        "id": "z_FKjtvY8EnN"
      },
      "source": [
        "# Avg_AuPRC:"
      ]
    },
    {
      "cell_type": "code",
      "execution_count": null,
      "metadata": {
        "id": "8aRipiqo70bS"
      },
      "outputs": [],
      "source": [
        "for temp, avg in avg_AuPRC:\n",
        "  print('temp: ', str(temp).ljust(22),'avg AuPRC: ', str(avg))"
      ]
    },
    {
      "cell_type": "markdown",
      "metadata": {
        "id": "sitRu-he9B4c"
      },
      "source": [
        "# Avg FPR@TPR95"
      ]
    },
    {
      "cell_type": "code",
      "execution_count": null,
      "metadata": {
        "id": "arf4uqSd9Gyi"
      },
      "outputs": [],
      "source": [
        "for temp, avg in avg_fpr_at_95_tpr:\n",
        "  print('temp: ', str(temp).ljust(22),'avg FPR@95TPR: ', str(avg))"
      ]
    },
    {
      "cell_type": "markdown",
      "metadata": {
        "id": "mXWEpq_u6utn"
      },
      "source": [
        "# Computing the best\n",
        "* first show the best w.r to AuPRC and w.r to FPR@95 on avg"
      ]
    },
    {
      "cell_type": "code",
      "execution_count": null,
      "metadata": {
        "id": "kWSLo9RU7rVY"
      },
      "outputs": [],
      "source": [
        "max_AuPRC_temp, max_AuPRC_value = max(avg_AuPRC, key=lambda x: x[1])\n",
        "\n",
        "min_fpr_at_95_tpr_temp, min_fpr_at_95_tpr_value = min(avg_fpr_at_95_tpr, key=lambda x: x[1])\n",
        "\n",
        "print(\"Temperature for retriving the max avg_AuPRC :\", max_AuPRC_temp)\n",
        "print(\"Temperature for retriving the min avg_fpr_at_95_tpr: \", min_fpr_at_95_tpr_temp)\n"
      ]
    },
    {
      "cell_type": "code",
      "execution_count": null,
      "metadata": {
        "id": "2v8Ws97N8ekX"
      },
      "outputs": [],
      "source": [
        "best_temp = None\n",
        "best_score = float('-inf')\n",
        "for temp_AuPRC, avg_AuPRC_value in avg_AuPRC:\n",
        "    for temp_fpr, avg_fpr_value in avg_fpr_at_95_tpr:\n",
        "        score = avg_AuPRC_value - avg_fpr_value\n",
        "        if score > best_score:\n",
        "            best_score = score\n",
        "            best_temp = temp_AuPRC\n",
        "\n",
        "print(\"Best:\", best_temp)\n"
      ]
    },
    {
      "cell_type": "markdown",
      "metadata": {
        "id": "ppPnecR6-C0z"
      },
      "source": [
        "# Perform MSP with temperature t = t_best = 0.1"
      ]
    },
    {
      "cell_type": "code",
      "execution_count": null,
      "metadata": {
        "id": "IODdBe18-Bnt"
      },
      "outputs": [],
      "source": [
        "!python evalAnomaly.py --method 'MSPT' --temp 0.1 --input \"/content/Validation_Dataset/RoadAnomaly21/images/*.png\""
      ]
    },
    {
      "cell_type": "code",
      "execution_count": null,
      "metadata": {
        "id": "7yGu-r9P-cf2"
      },
      "outputs": [],
      "source": [
        "!python evalAnomaly.py --method 'MSPT' --temp 0.1 --input \"/content/Validation_Dataset/RoadObsticle21/images/*.webp\""
      ]
    },
    {
      "cell_type": "code",
      "execution_count": null,
      "metadata": {
        "id": "92U_le3P-h7n"
      },
      "outputs": [],
      "source": [
        "!python evalAnomaly.py --method 'MSPT' --temp 0.1 --input \"/content/Validation_Dataset/RoadAnomaly/images/*.jpg\""
      ]
    },
    {
      "cell_type": "code",
      "execution_count": null,
      "metadata": {
        "id": "CrbaWH7Y-oED"
      },
      "outputs": [],
      "source": [
        "!python evalAnomaly.py --method 'MSPT' --temp 0.1 --input \"/content/Validation_Dataset/fs_static/images/*.jpg\""
      ]
    },
    {
      "cell_type": "code",
      "execution_count": null,
      "metadata": {
        "id": "K3q_U4S6-xcF"
      },
      "outputs": [],
      "source": [
        "!python evalAnomaly.py --method 'MSPT' --temp 0.1 --input \"/content/Validation_Dataset/FS_LostFound_full/images/*.png\""
      ]
    },
    {
      "cell_type": "markdown",
      "metadata": {
        "id": "Gtu8brlDKPBN"
      },
      "source": [
        "# Void classifier\n",
        "# Erfnet"
      ]
    },
    {
      "cell_type": "code",
      "source": [
        "%cd /content/AnomalySegmentation_AML/trained_models"
      ],
      "metadata": {
        "colab": {
          "base_uri": "https://localhost:8080/"
        },
        "id": "0xmNjTlrKV1e",
        "outputId": "a3c779fb-a187-43f9-ebcb-e4545f97aa3b"
      },
      "execution_count": null,
      "outputs": [
        {
          "output_type": "stream",
          "name": "stdout",
          "text": [
            "/content/AnomalySegmentation_AML/trained_models\n"
          ]
        }
      ]
    },
    {
      "cell_type": "code",
      "source": [
        "import torch"
      ],
      "metadata": {
        "id": "jnaY8_ByL5xU"
      },
      "execution_count": null,
      "outputs": []
    },
    {
      "cell_type": "code",
      "source": [
        "state_dict_erfnet_pretrained = torch.load('erfnet_pretrained.pth')\n",
        "for key, value in state_dict_erfnet_pretrained.items():\n",
        "    print(key)"
      ],
      "metadata": {
        "colab": {
          "base_uri": "https://localhost:8080/"
        },
        "id": "tYY01zMEJ70O",
        "outputId": "6c56b57d-a360-4123-cad8-61190a4dd097"
      },
      "execution_count": null,
      "outputs": [
        {
          "output_type": "stream",
          "name": "stdout",
          "text": [
            "module.encoder.initial_block.conv.weight\n",
            "module.encoder.initial_block.conv.bias\n",
            "module.encoder.initial_block.bn.weight\n",
            "module.encoder.initial_block.bn.bias\n",
            "module.encoder.initial_block.bn.running_mean\n",
            "module.encoder.initial_block.bn.running_var\n",
            "module.encoder.layers.0.conv.weight\n",
            "module.encoder.layers.0.conv.bias\n",
            "module.encoder.layers.0.bn.weight\n",
            "module.encoder.layers.0.bn.bias\n",
            "module.encoder.layers.0.bn.running_mean\n",
            "module.encoder.layers.0.bn.running_var\n",
            "module.encoder.layers.1.conv3x1_1.weight\n",
            "module.encoder.layers.1.conv3x1_1.bias\n",
            "module.encoder.layers.1.conv1x3_1.weight\n",
            "module.encoder.layers.1.conv1x3_1.bias\n",
            "module.encoder.layers.1.conv3x1_2.weight\n",
            "module.encoder.layers.1.conv3x1_2.bias\n",
            "module.encoder.layers.1.conv1x3_2.weight\n",
            "module.encoder.layers.1.conv1x3_2.bias\n",
            "module.encoder.layers.1.bn1.weight\n",
            "module.encoder.layers.1.bn1.bias\n",
            "module.encoder.layers.1.bn1.running_mean\n",
            "module.encoder.layers.1.bn1.running_var\n",
            "module.encoder.layers.1.bn2.weight\n",
            "module.encoder.layers.1.bn2.bias\n",
            "module.encoder.layers.1.bn2.running_mean\n",
            "module.encoder.layers.1.bn2.running_var\n",
            "module.encoder.layers.2.conv3x1_1.weight\n",
            "module.encoder.layers.2.conv3x1_1.bias\n",
            "module.encoder.layers.2.conv1x3_1.weight\n",
            "module.encoder.layers.2.conv1x3_1.bias\n",
            "module.encoder.layers.2.conv3x1_2.weight\n",
            "module.encoder.layers.2.conv3x1_2.bias\n",
            "module.encoder.layers.2.conv1x3_2.weight\n",
            "module.encoder.layers.2.conv1x3_2.bias\n",
            "module.encoder.layers.2.bn1.weight\n",
            "module.encoder.layers.2.bn1.bias\n",
            "module.encoder.layers.2.bn1.running_mean\n",
            "module.encoder.layers.2.bn1.running_var\n",
            "module.encoder.layers.2.bn2.weight\n",
            "module.encoder.layers.2.bn2.bias\n",
            "module.encoder.layers.2.bn2.running_mean\n",
            "module.encoder.layers.2.bn2.running_var\n",
            "module.encoder.layers.3.conv3x1_1.weight\n",
            "module.encoder.layers.3.conv3x1_1.bias\n",
            "module.encoder.layers.3.conv1x3_1.weight\n",
            "module.encoder.layers.3.conv1x3_1.bias\n",
            "module.encoder.layers.3.conv3x1_2.weight\n",
            "module.encoder.layers.3.conv3x1_2.bias\n",
            "module.encoder.layers.3.conv1x3_2.weight\n",
            "module.encoder.layers.3.conv1x3_2.bias\n",
            "module.encoder.layers.3.bn1.weight\n",
            "module.encoder.layers.3.bn1.bias\n",
            "module.encoder.layers.3.bn1.running_mean\n",
            "module.encoder.layers.3.bn1.running_var\n",
            "module.encoder.layers.3.bn2.weight\n",
            "module.encoder.layers.3.bn2.bias\n",
            "module.encoder.layers.3.bn2.running_mean\n",
            "module.encoder.layers.3.bn2.running_var\n",
            "module.encoder.layers.4.conv3x1_1.weight\n",
            "module.encoder.layers.4.conv3x1_1.bias\n",
            "module.encoder.layers.4.conv1x3_1.weight\n",
            "module.encoder.layers.4.conv1x3_1.bias\n",
            "module.encoder.layers.4.conv3x1_2.weight\n",
            "module.encoder.layers.4.conv3x1_2.bias\n",
            "module.encoder.layers.4.conv1x3_2.weight\n",
            "module.encoder.layers.4.conv1x3_2.bias\n",
            "module.encoder.layers.4.bn1.weight\n",
            "module.encoder.layers.4.bn1.bias\n",
            "module.encoder.layers.4.bn1.running_mean\n",
            "module.encoder.layers.4.bn1.running_var\n",
            "module.encoder.layers.4.bn2.weight\n",
            "module.encoder.layers.4.bn2.bias\n",
            "module.encoder.layers.4.bn2.running_mean\n",
            "module.encoder.layers.4.bn2.running_var\n",
            "module.encoder.layers.5.conv3x1_1.weight\n",
            "module.encoder.layers.5.conv3x1_1.bias\n",
            "module.encoder.layers.5.conv1x3_1.weight\n",
            "module.encoder.layers.5.conv1x3_1.bias\n",
            "module.encoder.layers.5.conv3x1_2.weight\n",
            "module.encoder.layers.5.conv3x1_2.bias\n",
            "module.encoder.layers.5.conv1x3_2.weight\n",
            "module.encoder.layers.5.conv1x3_2.bias\n",
            "module.encoder.layers.5.bn1.weight\n",
            "module.encoder.layers.5.bn1.bias\n",
            "module.encoder.layers.5.bn1.running_mean\n",
            "module.encoder.layers.5.bn1.running_var\n",
            "module.encoder.layers.5.bn2.weight\n",
            "module.encoder.layers.5.bn2.bias\n",
            "module.encoder.layers.5.bn2.running_mean\n",
            "module.encoder.layers.5.bn2.running_var\n",
            "module.encoder.layers.6.conv.weight\n",
            "module.encoder.layers.6.conv.bias\n",
            "module.encoder.layers.6.bn.weight\n",
            "module.encoder.layers.6.bn.bias\n",
            "module.encoder.layers.6.bn.running_mean\n",
            "module.encoder.layers.6.bn.running_var\n",
            "module.encoder.layers.7.conv3x1_1.weight\n",
            "module.encoder.layers.7.conv3x1_1.bias\n",
            "module.encoder.layers.7.conv1x3_1.weight\n",
            "module.encoder.layers.7.conv1x3_1.bias\n",
            "module.encoder.layers.7.conv3x1_2.weight\n",
            "module.encoder.layers.7.conv3x1_2.bias\n",
            "module.encoder.layers.7.conv1x3_2.weight\n",
            "module.encoder.layers.7.conv1x3_2.bias\n",
            "module.encoder.layers.7.bn1.weight\n",
            "module.encoder.layers.7.bn1.bias\n",
            "module.encoder.layers.7.bn1.running_mean\n",
            "module.encoder.layers.7.bn1.running_var\n",
            "module.encoder.layers.7.bn2.weight\n",
            "module.encoder.layers.7.bn2.bias\n",
            "module.encoder.layers.7.bn2.running_mean\n",
            "module.encoder.layers.7.bn2.running_var\n",
            "module.encoder.layers.8.conv3x1_1.weight\n",
            "module.encoder.layers.8.conv3x1_1.bias\n",
            "module.encoder.layers.8.conv1x3_1.weight\n",
            "module.encoder.layers.8.conv1x3_1.bias\n",
            "module.encoder.layers.8.conv3x1_2.weight\n",
            "module.encoder.layers.8.conv3x1_2.bias\n",
            "module.encoder.layers.8.conv1x3_2.weight\n",
            "module.encoder.layers.8.conv1x3_2.bias\n",
            "module.encoder.layers.8.bn1.weight\n",
            "module.encoder.layers.8.bn1.bias\n",
            "module.encoder.layers.8.bn1.running_mean\n",
            "module.encoder.layers.8.bn1.running_var\n",
            "module.encoder.layers.8.bn2.weight\n",
            "module.encoder.layers.8.bn2.bias\n",
            "module.encoder.layers.8.bn2.running_mean\n",
            "module.encoder.layers.8.bn2.running_var\n",
            "module.encoder.layers.9.conv3x1_1.weight\n",
            "module.encoder.layers.9.conv3x1_1.bias\n",
            "module.encoder.layers.9.conv1x3_1.weight\n",
            "module.encoder.layers.9.conv1x3_1.bias\n",
            "module.encoder.layers.9.conv3x1_2.weight\n",
            "module.encoder.layers.9.conv3x1_2.bias\n",
            "module.encoder.layers.9.conv1x3_2.weight\n",
            "module.encoder.layers.9.conv1x3_2.bias\n",
            "module.encoder.layers.9.bn1.weight\n",
            "module.encoder.layers.9.bn1.bias\n",
            "module.encoder.layers.9.bn1.running_mean\n",
            "module.encoder.layers.9.bn1.running_var\n",
            "module.encoder.layers.9.bn2.weight\n",
            "module.encoder.layers.9.bn2.bias\n",
            "module.encoder.layers.9.bn2.running_mean\n",
            "module.encoder.layers.9.bn2.running_var\n",
            "module.encoder.layers.10.conv3x1_1.weight\n",
            "module.encoder.layers.10.conv3x1_1.bias\n",
            "module.encoder.layers.10.conv1x3_1.weight\n",
            "module.encoder.layers.10.conv1x3_1.bias\n",
            "module.encoder.layers.10.conv3x1_2.weight\n",
            "module.encoder.layers.10.conv3x1_2.bias\n",
            "module.encoder.layers.10.conv1x3_2.weight\n",
            "module.encoder.layers.10.conv1x3_2.bias\n",
            "module.encoder.layers.10.bn1.weight\n",
            "module.encoder.layers.10.bn1.bias\n",
            "module.encoder.layers.10.bn1.running_mean\n",
            "module.encoder.layers.10.bn1.running_var\n",
            "module.encoder.layers.10.bn2.weight\n",
            "module.encoder.layers.10.bn2.bias\n",
            "module.encoder.layers.10.bn2.running_mean\n",
            "module.encoder.layers.10.bn2.running_var\n",
            "module.encoder.layers.11.conv3x1_1.weight\n",
            "module.encoder.layers.11.conv3x1_1.bias\n",
            "module.encoder.layers.11.conv1x3_1.weight\n",
            "module.encoder.layers.11.conv1x3_1.bias\n",
            "module.encoder.layers.11.conv3x1_2.weight\n",
            "module.encoder.layers.11.conv3x1_2.bias\n",
            "module.encoder.layers.11.conv1x3_2.weight\n",
            "module.encoder.layers.11.conv1x3_2.bias\n",
            "module.encoder.layers.11.bn1.weight\n",
            "module.encoder.layers.11.bn1.bias\n",
            "module.encoder.layers.11.bn1.running_mean\n",
            "module.encoder.layers.11.bn1.running_var\n",
            "module.encoder.layers.11.bn2.weight\n",
            "module.encoder.layers.11.bn2.bias\n",
            "module.encoder.layers.11.bn2.running_mean\n",
            "module.encoder.layers.11.bn2.running_var\n",
            "module.encoder.layers.12.conv3x1_1.weight\n",
            "module.encoder.layers.12.conv3x1_1.bias\n",
            "module.encoder.layers.12.conv1x3_1.weight\n",
            "module.encoder.layers.12.conv1x3_1.bias\n",
            "module.encoder.layers.12.conv3x1_2.weight\n",
            "module.encoder.layers.12.conv3x1_2.bias\n",
            "module.encoder.layers.12.conv1x3_2.weight\n",
            "module.encoder.layers.12.conv1x3_2.bias\n",
            "module.encoder.layers.12.bn1.weight\n",
            "module.encoder.layers.12.bn1.bias\n",
            "module.encoder.layers.12.bn1.running_mean\n",
            "module.encoder.layers.12.bn1.running_var\n",
            "module.encoder.layers.12.bn2.weight\n",
            "module.encoder.layers.12.bn2.bias\n",
            "module.encoder.layers.12.bn2.running_mean\n",
            "module.encoder.layers.12.bn2.running_var\n",
            "module.encoder.layers.13.conv3x1_1.weight\n",
            "module.encoder.layers.13.conv3x1_1.bias\n",
            "module.encoder.layers.13.conv1x3_1.weight\n",
            "module.encoder.layers.13.conv1x3_1.bias\n",
            "module.encoder.layers.13.conv3x1_2.weight\n",
            "module.encoder.layers.13.conv3x1_2.bias\n",
            "module.encoder.layers.13.conv1x3_2.weight\n",
            "module.encoder.layers.13.conv1x3_2.bias\n",
            "module.encoder.layers.13.bn1.weight\n",
            "module.encoder.layers.13.bn1.bias\n",
            "module.encoder.layers.13.bn1.running_mean\n",
            "module.encoder.layers.13.bn1.running_var\n",
            "module.encoder.layers.13.bn2.weight\n",
            "module.encoder.layers.13.bn2.bias\n",
            "module.encoder.layers.13.bn2.running_mean\n",
            "module.encoder.layers.13.bn2.running_var\n",
            "module.encoder.layers.14.conv3x1_1.weight\n",
            "module.encoder.layers.14.conv3x1_1.bias\n",
            "module.encoder.layers.14.conv1x3_1.weight\n",
            "module.encoder.layers.14.conv1x3_1.bias\n",
            "module.encoder.layers.14.conv3x1_2.weight\n",
            "module.encoder.layers.14.conv3x1_2.bias\n",
            "module.encoder.layers.14.conv1x3_2.weight\n",
            "module.encoder.layers.14.conv1x3_2.bias\n",
            "module.encoder.layers.14.bn1.weight\n",
            "module.encoder.layers.14.bn1.bias\n",
            "module.encoder.layers.14.bn1.running_mean\n",
            "module.encoder.layers.14.bn1.running_var\n",
            "module.encoder.layers.14.bn2.weight\n",
            "module.encoder.layers.14.bn2.bias\n",
            "module.encoder.layers.14.bn2.running_mean\n",
            "module.encoder.layers.14.bn2.running_var\n",
            "module.decoder.layers.0.conv.weight\n",
            "module.decoder.layers.0.conv.bias\n",
            "module.decoder.layers.0.bn.weight\n",
            "module.decoder.layers.0.bn.bias\n",
            "module.decoder.layers.0.bn.running_mean\n",
            "module.decoder.layers.0.bn.running_var\n",
            "module.decoder.layers.1.conv3x1_1.weight\n",
            "module.decoder.layers.1.conv3x1_1.bias\n",
            "module.decoder.layers.1.conv1x3_1.weight\n",
            "module.decoder.layers.1.conv1x3_1.bias\n",
            "module.decoder.layers.1.bn1.weight\n",
            "module.decoder.layers.1.bn1.bias\n",
            "module.decoder.layers.1.bn1.running_mean\n",
            "module.decoder.layers.1.bn1.running_var\n",
            "module.decoder.layers.1.conv3x1_2.weight\n",
            "module.decoder.layers.1.conv3x1_2.bias\n",
            "module.decoder.layers.1.conv1x3_2.weight\n",
            "module.decoder.layers.1.conv1x3_2.bias\n",
            "module.decoder.layers.1.bn2.weight\n",
            "module.decoder.layers.1.bn2.bias\n",
            "module.decoder.layers.1.bn2.running_mean\n",
            "module.decoder.layers.1.bn2.running_var\n",
            "module.decoder.layers.2.conv3x1_1.weight\n",
            "module.decoder.layers.2.conv3x1_1.bias\n",
            "module.decoder.layers.2.conv1x3_1.weight\n",
            "module.decoder.layers.2.conv1x3_1.bias\n",
            "module.decoder.layers.2.bn1.weight\n",
            "module.decoder.layers.2.bn1.bias\n",
            "module.decoder.layers.2.bn1.running_mean\n",
            "module.decoder.layers.2.bn1.running_var\n",
            "module.decoder.layers.2.conv3x1_2.weight\n",
            "module.decoder.layers.2.conv3x1_2.bias\n",
            "module.decoder.layers.2.conv1x3_2.weight\n",
            "module.decoder.layers.2.conv1x3_2.bias\n",
            "module.decoder.layers.2.bn2.weight\n",
            "module.decoder.layers.2.bn2.bias\n",
            "module.decoder.layers.2.bn2.running_mean\n",
            "module.decoder.layers.2.bn2.running_var\n",
            "module.decoder.layers.3.conv.weight\n",
            "module.decoder.layers.3.conv.bias\n",
            "module.decoder.layers.3.bn.weight\n",
            "module.decoder.layers.3.bn.bias\n",
            "module.decoder.layers.3.bn.running_mean\n",
            "module.decoder.layers.3.bn.running_var\n",
            "module.decoder.layers.4.conv3x1_1.weight\n",
            "module.decoder.layers.4.conv3x1_1.bias\n",
            "module.decoder.layers.4.conv1x3_1.weight\n",
            "module.decoder.layers.4.conv1x3_1.bias\n",
            "module.decoder.layers.4.bn1.weight\n",
            "module.decoder.layers.4.bn1.bias\n",
            "module.decoder.layers.4.bn1.running_mean\n",
            "module.decoder.layers.4.bn1.running_var\n",
            "module.decoder.layers.4.conv3x1_2.weight\n",
            "module.decoder.layers.4.conv3x1_2.bias\n",
            "module.decoder.layers.4.conv1x3_2.weight\n",
            "module.decoder.layers.4.conv1x3_2.bias\n",
            "module.decoder.layers.4.bn2.weight\n",
            "module.decoder.layers.4.bn2.bias\n",
            "module.decoder.layers.4.bn2.running_mean\n",
            "module.decoder.layers.4.bn2.running_var\n",
            "module.decoder.layers.5.conv3x1_1.weight\n",
            "module.decoder.layers.5.conv3x1_1.bias\n",
            "module.decoder.layers.5.conv1x3_1.weight\n",
            "module.decoder.layers.5.conv1x3_1.bias\n",
            "module.decoder.layers.5.bn1.weight\n",
            "module.decoder.layers.5.bn1.bias\n",
            "module.decoder.layers.5.bn1.running_mean\n",
            "module.decoder.layers.5.bn1.running_var\n",
            "module.decoder.layers.5.conv3x1_2.weight\n",
            "module.decoder.layers.5.conv3x1_2.bias\n",
            "module.decoder.layers.5.conv1x3_2.weight\n",
            "module.decoder.layers.5.conv1x3_2.bias\n",
            "module.decoder.layers.5.bn2.weight\n",
            "module.decoder.layers.5.bn2.bias\n",
            "module.decoder.layers.5.bn2.running_mean\n",
            "module.decoder.layers.5.bn2.running_var\n",
            "module.decoder.output_conv.weight\n",
            "module.decoder.output_conv.bias\n"
          ]
        }
      ]
    },
    {
      "cell_type": "code",
      "execution_count": null,
      "metadata": {
        "id": "5rIsIF4CLhUl",
        "colab": {
          "base_uri": "https://localhost:8080/"
        },
        "outputId": "ca2f8fbf-bb1c-43dd-8e66-75106423e910"
      },
      "outputs": [
        {
          "output_type": "stream",
          "name": "stdout",
          "text": [
            "encoder.initial_block.conv.weight\n",
            "encoder.initial_block.conv.bias\n",
            "encoder.initial_block.bn.weight\n",
            "encoder.initial_block.bn.bias\n",
            "encoder.initial_block.bn.running_mean\n",
            "encoder.initial_block.bn.running_var\n",
            "encoder.initial_block.bn.num_batches_tracked\n",
            "encoder.layers.0.conv.weight\n",
            "encoder.layers.0.conv.bias\n",
            "encoder.layers.0.bn.weight\n",
            "encoder.layers.0.bn.bias\n",
            "encoder.layers.0.bn.running_mean\n",
            "encoder.layers.0.bn.running_var\n",
            "encoder.layers.0.bn.num_batches_tracked\n",
            "encoder.layers.1.conv3x1_1.weight\n",
            "encoder.layers.1.conv3x1_1.bias\n",
            "encoder.layers.1.conv1x3_1.weight\n",
            "encoder.layers.1.conv1x3_1.bias\n",
            "encoder.layers.1.bn1.weight\n",
            "encoder.layers.1.bn1.bias\n",
            "encoder.layers.1.bn1.running_mean\n",
            "encoder.layers.1.bn1.running_var\n",
            "encoder.layers.1.bn1.num_batches_tracked\n",
            "encoder.layers.1.conv3x1_2.weight\n",
            "encoder.layers.1.conv3x1_2.bias\n",
            "encoder.layers.1.conv1x3_2.weight\n",
            "encoder.layers.1.conv1x3_2.bias\n",
            "encoder.layers.1.bn2.weight\n",
            "encoder.layers.1.bn2.bias\n",
            "encoder.layers.1.bn2.running_mean\n",
            "encoder.layers.1.bn2.running_var\n",
            "encoder.layers.1.bn2.num_batches_tracked\n",
            "encoder.layers.2.conv3x1_1.weight\n",
            "encoder.layers.2.conv3x1_1.bias\n",
            "encoder.layers.2.conv1x3_1.weight\n",
            "encoder.layers.2.conv1x3_1.bias\n",
            "encoder.layers.2.bn1.weight\n",
            "encoder.layers.2.bn1.bias\n",
            "encoder.layers.2.bn1.running_mean\n",
            "encoder.layers.2.bn1.running_var\n",
            "encoder.layers.2.bn1.num_batches_tracked\n",
            "encoder.layers.2.conv3x1_2.weight\n",
            "encoder.layers.2.conv3x1_2.bias\n",
            "encoder.layers.2.conv1x3_2.weight\n",
            "encoder.layers.2.conv1x3_2.bias\n",
            "encoder.layers.2.bn2.weight\n",
            "encoder.layers.2.bn2.bias\n",
            "encoder.layers.2.bn2.running_mean\n",
            "encoder.layers.2.bn2.running_var\n",
            "encoder.layers.2.bn2.num_batches_tracked\n",
            "encoder.layers.3.conv3x1_1.weight\n",
            "encoder.layers.3.conv3x1_1.bias\n",
            "encoder.layers.3.conv1x3_1.weight\n",
            "encoder.layers.3.conv1x3_1.bias\n",
            "encoder.layers.3.bn1.weight\n",
            "encoder.layers.3.bn1.bias\n",
            "encoder.layers.3.bn1.running_mean\n",
            "encoder.layers.3.bn1.running_var\n",
            "encoder.layers.3.bn1.num_batches_tracked\n",
            "encoder.layers.3.conv3x1_2.weight\n",
            "encoder.layers.3.conv3x1_2.bias\n",
            "encoder.layers.3.conv1x3_2.weight\n",
            "encoder.layers.3.conv1x3_2.bias\n",
            "encoder.layers.3.bn2.weight\n",
            "encoder.layers.3.bn2.bias\n",
            "encoder.layers.3.bn2.running_mean\n",
            "encoder.layers.3.bn2.running_var\n",
            "encoder.layers.3.bn2.num_batches_tracked\n",
            "encoder.layers.4.conv3x1_1.weight\n",
            "encoder.layers.4.conv3x1_1.bias\n",
            "encoder.layers.4.conv1x3_1.weight\n",
            "encoder.layers.4.conv1x3_1.bias\n",
            "encoder.layers.4.bn1.weight\n",
            "encoder.layers.4.bn1.bias\n",
            "encoder.layers.4.bn1.running_mean\n",
            "encoder.layers.4.bn1.running_var\n",
            "encoder.layers.4.bn1.num_batches_tracked\n",
            "encoder.layers.4.conv3x1_2.weight\n",
            "encoder.layers.4.conv3x1_2.bias\n",
            "encoder.layers.4.conv1x3_2.weight\n",
            "encoder.layers.4.conv1x3_2.bias\n",
            "encoder.layers.4.bn2.weight\n",
            "encoder.layers.4.bn2.bias\n",
            "encoder.layers.4.bn2.running_mean\n",
            "encoder.layers.4.bn2.running_var\n",
            "encoder.layers.4.bn2.num_batches_tracked\n",
            "encoder.layers.5.conv3x1_1.weight\n",
            "encoder.layers.5.conv3x1_1.bias\n",
            "encoder.layers.5.conv1x3_1.weight\n",
            "encoder.layers.5.conv1x3_1.bias\n",
            "encoder.layers.5.bn1.weight\n",
            "encoder.layers.5.bn1.bias\n",
            "encoder.layers.5.bn1.running_mean\n",
            "encoder.layers.5.bn1.running_var\n",
            "encoder.layers.5.bn1.num_batches_tracked\n",
            "encoder.layers.5.conv3x1_2.weight\n",
            "encoder.layers.5.conv3x1_2.bias\n",
            "encoder.layers.5.conv1x3_2.weight\n",
            "encoder.layers.5.conv1x3_2.bias\n",
            "encoder.layers.5.bn2.weight\n",
            "encoder.layers.5.bn2.bias\n",
            "encoder.layers.5.bn2.running_mean\n",
            "encoder.layers.5.bn2.running_var\n",
            "encoder.layers.5.bn2.num_batches_tracked\n",
            "encoder.layers.6.conv.weight\n",
            "encoder.layers.6.conv.bias\n",
            "encoder.layers.6.bn.weight\n",
            "encoder.layers.6.bn.bias\n",
            "encoder.layers.6.bn.running_mean\n",
            "encoder.layers.6.bn.running_var\n",
            "encoder.layers.6.bn.num_batches_tracked\n",
            "encoder.layers.7.conv3x1_1.weight\n",
            "encoder.layers.7.conv3x1_1.bias\n",
            "encoder.layers.7.conv1x3_1.weight\n",
            "encoder.layers.7.conv1x3_1.bias\n",
            "encoder.layers.7.bn1.weight\n",
            "encoder.layers.7.bn1.bias\n",
            "encoder.layers.7.bn1.running_mean\n",
            "encoder.layers.7.bn1.running_var\n",
            "encoder.layers.7.bn1.num_batches_tracked\n",
            "encoder.layers.7.conv3x1_2.weight\n",
            "encoder.layers.7.conv3x1_2.bias\n",
            "encoder.layers.7.conv1x3_2.weight\n",
            "encoder.layers.7.conv1x3_2.bias\n",
            "encoder.layers.7.bn2.weight\n",
            "encoder.layers.7.bn2.bias\n",
            "encoder.layers.7.bn2.running_mean\n",
            "encoder.layers.7.bn2.running_var\n",
            "encoder.layers.7.bn2.num_batches_tracked\n",
            "encoder.layers.8.conv3x1_1.weight\n",
            "encoder.layers.8.conv3x1_1.bias\n",
            "encoder.layers.8.conv1x3_1.weight\n",
            "encoder.layers.8.conv1x3_1.bias\n",
            "encoder.layers.8.bn1.weight\n",
            "encoder.layers.8.bn1.bias\n",
            "encoder.layers.8.bn1.running_mean\n",
            "encoder.layers.8.bn1.running_var\n",
            "encoder.layers.8.bn1.num_batches_tracked\n",
            "encoder.layers.8.conv3x1_2.weight\n",
            "encoder.layers.8.conv3x1_2.bias\n",
            "encoder.layers.8.conv1x3_2.weight\n",
            "encoder.layers.8.conv1x3_2.bias\n",
            "encoder.layers.8.bn2.weight\n",
            "encoder.layers.8.bn2.bias\n",
            "encoder.layers.8.bn2.running_mean\n",
            "encoder.layers.8.bn2.running_var\n",
            "encoder.layers.8.bn2.num_batches_tracked\n",
            "encoder.layers.9.conv3x1_1.weight\n",
            "encoder.layers.9.conv3x1_1.bias\n",
            "encoder.layers.9.conv1x3_1.weight\n",
            "encoder.layers.9.conv1x3_1.bias\n",
            "encoder.layers.9.bn1.weight\n",
            "encoder.layers.9.bn1.bias\n",
            "encoder.layers.9.bn1.running_mean\n",
            "encoder.layers.9.bn1.running_var\n",
            "encoder.layers.9.bn1.num_batches_tracked\n",
            "encoder.layers.9.conv3x1_2.weight\n",
            "encoder.layers.9.conv3x1_2.bias\n",
            "encoder.layers.9.conv1x3_2.weight\n",
            "encoder.layers.9.conv1x3_2.bias\n",
            "encoder.layers.9.bn2.weight\n",
            "encoder.layers.9.bn2.bias\n",
            "encoder.layers.9.bn2.running_mean\n",
            "encoder.layers.9.bn2.running_var\n",
            "encoder.layers.9.bn2.num_batches_tracked\n",
            "encoder.layers.10.conv3x1_1.weight\n",
            "encoder.layers.10.conv3x1_1.bias\n",
            "encoder.layers.10.conv1x3_1.weight\n",
            "encoder.layers.10.conv1x3_1.bias\n",
            "encoder.layers.10.bn1.weight\n",
            "encoder.layers.10.bn1.bias\n",
            "encoder.layers.10.bn1.running_mean\n",
            "encoder.layers.10.bn1.running_var\n",
            "encoder.layers.10.bn1.num_batches_tracked\n",
            "encoder.layers.10.conv3x1_2.weight\n",
            "encoder.layers.10.conv3x1_2.bias\n",
            "encoder.layers.10.conv1x3_2.weight\n",
            "encoder.layers.10.conv1x3_2.bias\n",
            "encoder.layers.10.bn2.weight\n",
            "encoder.layers.10.bn2.bias\n",
            "encoder.layers.10.bn2.running_mean\n",
            "encoder.layers.10.bn2.running_var\n",
            "encoder.layers.10.bn2.num_batches_tracked\n",
            "encoder.layers.11.conv3x1_1.weight\n",
            "encoder.layers.11.conv3x1_1.bias\n",
            "encoder.layers.11.conv1x3_1.weight\n",
            "encoder.layers.11.conv1x3_1.bias\n",
            "encoder.layers.11.bn1.weight\n",
            "encoder.layers.11.bn1.bias\n",
            "encoder.layers.11.bn1.running_mean\n",
            "encoder.layers.11.bn1.running_var\n",
            "encoder.layers.11.bn1.num_batches_tracked\n",
            "encoder.layers.11.conv3x1_2.weight\n",
            "encoder.layers.11.conv3x1_2.bias\n",
            "encoder.layers.11.conv1x3_2.weight\n",
            "encoder.layers.11.conv1x3_2.bias\n",
            "encoder.layers.11.bn2.weight\n",
            "encoder.layers.11.bn2.bias\n",
            "encoder.layers.11.bn2.running_mean\n",
            "encoder.layers.11.bn2.running_var\n",
            "encoder.layers.11.bn2.num_batches_tracked\n",
            "encoder.layers.12.conv3x1_1.weight\n",
            "encoder.layers.12.conv3x1_1.bias\n",
            "encoder.layers.12.conv1x3_1.weight\n",
            "encoder.layers.12.conv1x3_1.bias\n",
            "encoder.layers.12.bn1.weight\n",
            "encoder.layers.12.bn1.bias\n",
            "encoder.layers.12.bn1.running_mean\n",
            "encoder.layers.12.bn1.running_var\n",
            "encoder.layers.12.bn1.num_batches_tracked\n",
            "encoder.layers.12.conv3x1_2.weight\n",
            "encoder.layers.12.conv3x1_2.bias\n",
            "encoder.layers.12.conv1x3_2.weight\n",
            "encoder.layers.12.conv1x3_2.bias\n",
            "encoder.layers.12.bn2.weight\n",
            "encoder.layers.12.bn2.bias\n",
            "encoder.layers.12.bn2.running_mean\n",
            "encoder.layers.12.bn2.running_var\n",
            "encoder.layers.12.bn2.num_batches_tracked\n",
            "encoder.layers.13.conv3x1_1.weight\n",
            "encoder.layers.13.conv3x1_1.bias\n",
            "encoder.layers.13.conv1x3_1.weight\n",
            "encoder.layers.13.conv1x3_1.bias\n",
            "encoder.layers.13.bn1.weight\n",
            "encoder.layers.13.bn1.bias\n",
            "encoder.layers.13.bn1.running_mean\n",
            "encoder.layers.13.bn1.running_var\n",
            "encoder.layers.13.bn1.num_batches_tracked\n",
            "encoder.layers.13.conv3x1_2.weight\n",
            "encoder.layers.13.conv3x1_2.bias\n",
            "encoder.layers.13.conv1x3_2.weight\n",
            "encoder.layers.13.conv1x3_2.bias\n",
            "encoder.layers.13.bn2.weight\n",
            "encoder.layers.13.bn2.bias\n",
            "encoder.layers.13.bn2.running_mean\n",
            "encoder.layers.13.bn2.running_var\n",
            "encoder.layers.13.bn2.num_batches_tracked\n",
            "encoder.layers.14.conv3x1_1.weight\n",
            "encoder.layers.14.conv3x1_1.bias\n",
            "encoder.layers.14.conv1x3_1.weight\n",
            "encoder.layers.14.conv1x3_1.bias\n",
            "encoder.layers.14.bn1.weight\n",
            "encoder.layers.14.bn1.bias\n",
            "encoder.layers.14.bn1.running_mean\n",
            "encoder.layers.14.bn1.running_var\n",
            "encoder.layers.14.bn1.num_batches_tracked\n",
            "encoder.layers.14.conv3x1_2.weight\n",
            "encoder.layers.14.conv3x1_2.bias\n",
            "encoder.layers.14.conv1x3_2.weight\n",
            "encoder.layers.14.conv1x3_2.bias\n",
            "encoder.layers.14.bn2.weight\n",
            "encoder.layers.14.bn2.bias\n",
            "encoder.layers.14.bn2.running_mean\n",
            "encoder.layers.14.bn2.running_var\n",
            "encoder.layers.14.bn2.num_batches_tracked\n",
            "encoder.output_conv.weight\n",
            "encoder.output_conv.bias\n",
            "decoder.layers.0.conv.weight\n",
            "decoder.layers.0.conv.bias\n",
            "decoder.layers.0.bn.weight\n",
            "decoder.layers.0.bn.bias\n",
            "decoder.layers.0.bn.running_mean\n",
            "decoder.layers.0.bn.running_var\n",
            "decoder.layers.0.bn.num_batches_tracked\n",
            "decoder.layers.1.conv3x1_1.weight\n",
            "decoder.layers.1.conv3x1_1.bias\n",
            "decoder.layers.1.conv1x3_1.weight\n",
            "decoder.layers.1.conv1x3_1.bias\n",
            "decoder.layers.1.bn1.weight\n",
            "decoder.layers.1.bn1.bias\n",
            "decoder.layers.1.bn1.running_mean\n",
            "decoder.layers.1.bn1.running_var\n",
            "decoder.layers.1.bn1.num_batches_tracked\n",
            "decoder.layers.1.conv3x1_2.weight\n",
            "decoder.layers.1.conv3x1_2.bias\n",
            "decoder.layers.1.conv1x3_2.weight\n",
            "decoder.layers.1.conv1x3_2.bias\n",
            "decoder.layers.1.bn2.weight\n",
            "decoder.layers.1.bn2.bias\n",
            "decoder.layers.1.bn2.running_mean\n",
            "decoder.layers.1.bn2.running_var\n",
            "decoder.layers.1.bn2.num_batches_tracked\n",
            "decoder.layers.2.conv3x1_1.weight\n",
            "decoder.layers.2.conv3x1_1.bias\n",
            "decoder.layers.2.conv1x3_1.weight\n",
            "decoder.layers.2.conv1x3_1.bias\n",
            "decoder.layers.2.bn1.weight\n",
            "decoder.layers.2.bn1.bias\n",
            "decoder.layers.2.bn1.running_mean\n",
            "decoder.layers.2.bn1.running_var\n",
            "decoder.layers.2.bn1.num_batches_tracked\n",
            "decoder.layers.2.conv3x1_2.weight\n",
            "decoder.layers.2.conv3x1_2.bias\n",
            "decoder.layers.2.conv1x3_2.weight\n",
            "decoder.layers.2.conv1x3_2.bias\n",
            "decoder.layers.2.bn2.weight\n",
            "decoder.layers.2.bn2.bias\n",
            "decoder.layers.2.bn2.running_mean\n",
            "decoder.layers.2.bn2.running_var\n",
            "decoder.layers.2.bn2.num_batches_tracked\n",
            "decoder.layers.3.conv.weight\n",
            "decoder.layers.3.conv.bias\n",
            "decoder.layers.3.bn.weight\n",
            "decoder.layers.3.bn.bias\n",
            "decoder.layers.3.bn.running_mean\n",
            "decoder.layers.3.bn.running_var\n",
            "decoder.layers.3.bn.num_batches_tracked\n",
            "decoder.layers.4.conv3x1_1.weight\n",
            "decoder.layers.4.conv3x1_1.bias\n",
            "decoder.layers.4.conv1x3_1.weight\n",
            "decoder.layers.4.conv1x3_1.bias\n",
            "decoder.layers.4.bn1.weight\n",
            "decoder.layers.4.bn1.bias\n",
            "decoder.layers.4.bn1.running_mean\n",
            "decoder.layers.4.bn1.running_var\n",
            "decoder.layers.4.bn1.num_batches_tracked\n",
            "decoder.layers.4.conv3x1_2.weight\n",
            "decoder.layers.4.conv3x1_2.bias\n",
            "decoder.layers.4.conv1x3_2.weight\n",
            "decoder.layers.4.conv1x3_2.bias\n",
            "decoder.layers.4.bn2.weight\n",
            "decoder.layers.4.bn2.bias\n",
            "decoder.layers.4.bn2.running_mean\n",
            "decoder.layers.4.bn2.running_var\n",
            "decoder.layers.4.bn2.num_batches_tracked\n",
            "decoder.layers.5.conv3x1_1.weight\n",
            "decoder.layers.5.conv3x1_1.bias\n",
            "decoder.layers.5.conv1x3_1.weight\n",
            "decoder.layers.5.conv1x3_1.bias\n",
            "decoder.layers.5.bn1.weight\n",
            "decoder.layers.5.bn1.bias\n",
            "decoder.layers.5.bn1.running_mean\n",
            "decoder.layers.5.bn1.running_var\n",
            "decoder.layers.5.bn1.num_batches_tracked\n",
            "decoder.layers.5.conv3x1_2.weight\n",
            "decoder.layers.5.conv3x1_2.bias\n",
            "decoder.layers.5.conv1x3_2.weight\n",
            "decoder.layers.5.conv1x3_2.bias\n",
            "decoder.layers.5.bn2.weight\n",
            "decoder.layers.5.bn2.bias\n",
            "decoder.layers.5.bn2.running_mean\n",
            "decoder.layers.5.bn2.running_var\n",
            "decoder.layers.5.bn2.num_batches_tracked\n",
            "decoder.output_conv.weight\n",
            "decoder.output_conv.bias\n"
          ]
        }
      ],
      "source": [
        "state_dict_erfnet_finetuned = torch.load('erfnet_finetuned_on_20_classes.pth')\n",
        "for key, value in state_dict_erfnet_finetuned.items():\n",
        "    print(key)"
      ]
    },
    {
      "cell_type": "code",
      "source": [
        "%cd /content/AnomalySegmentation_AML/eval"
      ],
      "metadata": {
        "id": "JNfUAvG8KdzA"
      },
      "execution_count": null,
      "outputs": []
    },
    {
      "cell_type": "code",
      "execution_count": null,
      "metadata": {
        "id": "3Qp6bFmZ45oG"
      },
      "outputs": [],
      "source": [
        "!python evalAnomaly.py --method 'VOID' --input \"/content/Validation_Dataset/RoadAnomaly/images/*.jpg\" --loadWeights 'erfnet_finetuned_on_20_classes.pth'"
      ]
    },
    {
      "cell_type": "code",
      "execution_count": null,
      "metadata": {
        "id": "XWYDhiiiKlPp"
      },
      "outputs": [],
      "source": [
        "!python evalAnomaly.py --method 'VOID' --input \"/content/Validation_Dataset/RoadAnomaly21/images/*.png\" --loadWeights 'erfnet_finetuned_on_20_classes.pth'"
      ]
    },
    {
      "cell_type": "code",
      "execution_count": null,
      "metadata": {
        "id": "qgwEOVXCLDrS"
      },
      "outputs": [],
      "source": [
        "!python evalAnomaly.py --method 'VOID' --input \"/content/Validation_Dataset/RoadObsticle21/images/*.webp\" --loadWeights 'erfnet_finetuned_on_20_classes.pth'"
      ]
    },
    {
      "cell_type": "code",
      "execution_count": null,
      "metadata": {
        "id": "zKN4WUm7LXfs"
      },
      "outputs": [],
      "source": [
        "!python evalAnomaly.py --method 'VOID' --input \"/content/Validation_Dataset/fs_static/images/*.jpg\" --loadWeights 'erfnet_finetuned_on_20_classes.pth'"
      ]
    },
    {
      "cell_type": "code",
      "execution_count": null,
      "metadata": {
        "id": "JRPlUeW8Lge7"
      },
      "outputs": [],
      "source": [
        "!python evalAnomaly.py --method 'VOID' --input \"/content/Validation_Dataset/FS_LostFound_full/images/*.png\" --loadWeights 'erfnet_finetuned_on_20_classes.pth'"
      ]
    },
    {
      "cell_type": "markdown",
      "metadata": {
        "id": "YTxMsOIOQDBg"
      },
      "source": [
        "## Enet"
      ]
    },
    {
      "cell_type": "code",
      "execution_count": null,
      "metadata": {
        "id": "2bOYp2OZQHR6"
      },
      "outputs": [],
      "source": [
        "!python evalAnomaly.py --method 'VOID' --loadWeights 'ENet_pretrained' --loadModel 'enet.py' --input \"/content/Validation_Dataset/RoadAnomaly21/images/*.png\""
      ]
    },
    {
      "cell_type": "code",
      "execution_count": null,
      "metadata": {
        "id": "iRLqGlz4QJe0"
      },
      "outputs": [],
      "source": [
        "!python evalAnomaly.py --method 'VOID' --loadWeights 'ENet_pretrained' --loadModel 'enet.py' --input \"/content/Validation_Dataset/RoadObsticle21/images/*.webp\""
      ]
    },
    {
      "cell_type": "code",
      "execution_count": null,
      "metadata": {
        "id": "en-2YcTTQMp7"
      },
      "outputs": [],
      "source": [
        "!python evalAnomaly.py --method 'VOID' --loadWeights 'ENet_pretrained' --loadModel 'enet.py' --input \"/content/Validation_Dataset/RoadAnomaly/images/*.jpg\""
      ]
    },
    {
      "cell_type": "code",
      "execution_count": null,
      "metadata": {
        "id": "JhhFT5CeQO-W"
      },
      "outputs": [],
      "source": [
        "!python evalAnomaly.py --method 'VOID' --loadWeights 'ENet_pretrained' --loadModel 'enet.py' --input \"/content/Validation_Dataset/fs_static/images/*.jpg\""
      ]
    },
    {
      "cell_type": "code",
      "execution_count": null,
      "metadata": {
        "id": "aKDDUF5MQRj-"
      },
      "outputs": [],
      "source": [
        "!python evalAnomaly.py --method 'VOID' --loadWeights 'ENet_pretrained' --loadModel 'enet.py' --input \"/content/Validation_Dataset/FS_LostFound_full/images/*.png\""
      ]
    },
    {
      "cell_type": "markdown",
      "metadata": {
        "id": "4psseCC-SJBl"
      },
      "source": [
        "## BiSeNet"
      ]
    },
    {
      "cell_type": "code",
      "execution_count": null,
      "metadata": {
        "id": "rqkt7iFHSNeN"
      },
      "outputs": [],
      "source": [
        "!python evalAnomaly.py --method 'VOID' --loadWeights 'bisenet_finetuning_final.pth' --loadModel 'bisenetv1.py' --input \"/content/Validation_Dataset/RoadAnomaly21/images/*.png\""
      ]
    },
    {
      "cell_type": "code",
      "execution_count": null,
      "metadata": {
        "id": "fBOQSNPuSNyg"
      },
      "outputs": [],
      "source": [
        "!python evalAnomaly.py --method 'VOID' --loadWeights 'bisenet_finetuning_final.pth' --loadModel 'bisenetv1.py' --input \"/content/Validation_Dataset/RoadObsticle21/images/*.webp\""
      ]
    },
    {
      "cell_type": "code",
      "execution_count": null,
      "metadata": {
        "id": "vQWlx0nGSOFx"
      },
      "outputs": [],
      "source": [
        "!python evalAnomaly.py --method 'VOID' --loadWeights 'bisenet_finetuning_final.pth' --loadModel 'bisenetv1.py' --input \"/content/Validation_Dataset/RoadAnomaly/images/*.jpg\""
      ]
    },
    {
      "cell_type": "code",
      "execution_count": null,
      "metadata": {
        "id": "0MZGB3cSSOmm"
      },
      "outputs": [],
      "source": [
        "!python evalAnomaly.py --method 'VOID' --loadWeights 'bisenet_finetuning_final.pth' --loadModel 'bisenetv1.py' --input \"/content/Validation_Dataset/fs_static/images/*.jpg\""
      ]
    },
    {
      "cell_type": "code",
      "execution_count": null,
      "metadata": {
        "id": "s5VpfGKjSO6H"
      },
      "outputs": [],
      "source": [
        "!python evalAnomaly.py --method 'VOID' --loadWeights 'bisenet_finetuning_final.pth' --loadModel 'bisenetv1.py' --input \"/content/Validation_Dataset/FS_LostFound_full/images/*.png\""
      ]
    },
    {
      "cell_type": "markdown",
      "metadata": {
        "id": "QIPf61fPNHC7"
      },
      "source": [
        "# Compute mIoU for each model"
      ]
    },
    {
      "cell_type": "code",
      "execution_count": null,
      "metadata": {
        "id": "cx2Aqv1APoNV"
      },
      "outputs": [],
      "source": [
        "!pwd\n",
        "%cd /content/AnomalySegmentation_AML/eval"
      ]
    },
    {
      "cell_type": "markdown",
      "source": [
        "## mIoU on Val dataset"
      ],
      "metadata": {
        "id": "SghxdxdFY47u"
      }
    },
    {
      "cell_type": "markdown",
      "metadata": {
        "id": "rjl2Y4GI2NWh"
      },
      "source": [
        "* Erfnet trained on 19 classes"
      ]
    },
    {
      "cell_type": "code",
      "execution_count": null,
      "metadata": {
        "id": "BjDSXFNXNOXB"
      },
      "outputs": [],
      "source": [
        "!python eval_iou.py --datadir \"/content/Datasets/Cityscapes/\" --subset 'val'  # by default '--loadWeights' = 'erfnet_pretrained.pth' and '--loadModel' = 'erfnet.py'"
      ]
    },
    {
      "cell_type": "markdown",
      "source": [
        "* Erfnet finetuned on 20 classes"
      ],
      "metadata": {
        "id": "faFFpKvcNYyi"
      }
    },
    {
      "cell_type": "code",
      "source": [
        "!python eval_iou.py --datadir \"/content/Datasets/Cityscapes/\" --subset 'val' --loadWeights='erfnet_finetuned_on_20_classes.pth' # by default  and '--loadModel' = 'erfnet.py'"
      ],
      "metadata": {
        "id": "tMOMMbhHNZZ7"
      },
      "execution_count": null,
      "outputs": []
    },
    {
      "cell_type": "markdown",
      "metadata": {
        "id": "SW_-_fVn2K72"
      },
      "source": [
        "* Enet"
      ]
    },
    {
      "cell_type": "code",
      "execution_count": null,
      "metadata": {
        "id": "LS4OUW0dOaCG"
      },
      "outputs": [],
      "source": [
        "!python eval_iou.py --datadir \"/content/Datasets/Cityscapes/\" --subset 'val' --loadWeights='ENet_pretrained' --loadModel='enet.py'"
      ]
    },
    {
      "cell_type": "markdown",
      "metadata": {
        "id": "jGV3OfVp2DwR"
      },
      "source": [
        "* BiSeNet"
      ]
    },
    {
      "cell_type": "code",
      "execution_count": null,
      "metadata": {
        "id": "XlUgd4dDsnue"
      },
      "outputs": [],
      "source": [
        "!python eval_iou.py --datadir \"/content/Datasets/Cityscapes/\" --subset 'val' --loadWeights='bisenet_finetuning_final.pth' --loadModel='bisenetv1.py'"
      ]
    },
    {
      "cell_type": "markdown",
      "source": [
        "# Anomaly inferences on Bisenet Pruned"
      ],
      "metadata": {
        "id": "3JKfRADU-itt"
      }
    },
    {
      "cell_type": "markdown",
      "source": [
        "* Void"
      ],
      "metadata": {
        "id": "iLyVz9sL_uDc"
      }
    },
    {
      "cell_type": "code",
      "source": [
        "!python evalAnomaly.py --method 'VOID' --loadWeights 'bisenet_finetuned_after_pruning.pth' --loadModel 'bisenetv1.py' --input \"/content/Validation_Dataset/RoadAnomaly21/images/*.png\""
      ],
      "metadata": {
        "id": "wVQ23HO3-aLD"
      },
      "execution_count": null,
      "outputs": []
    },
    {
      "cell_type": "code",
      "source": [
        "!python evalAnomaly.py --method 'VOID' --loadWeights 'bisenet_finetuned_after_pruning.pth' --loadModel 'bisenetv1.py' --input \"/content/Validation_Dataset/RoadObsticle21/images/*.webp\""
      ],
      "metadata": {
        "id": "NIN5figB_VAX"
      },
      "execution_count": null,
      "outputs": []
    },
    {
      "cell_type": "code",
      "source": [
        "!python evalAnomaly.py --method 'VOID' --loadWeights 'bisenet_finetuned_after_pruning.pth' --loadModel 'bisenetv1.py' --input \"/content/Validation_Dataset/RoadAnomaly/images/*.jpg\""
      ],
      "metadata": {
        "id": "V_idsyeQ_cgh"
      },
      "execution_count": null,
      "outputs": []
    },
    {
      "cell_type": "code",
      "source": [
        "!python evalAnomaly.py --method 'VOID' --loadWeights 'bisenet_finetuned_after_pruning.pth' --loadModel 'bisenetv1.py' --input \"/content/Validation_Dataset/fs_static/images/*.jpg\""
      ],
      "metadata": {
        "id": "O_diEXb__esO"
      },
      "execution_count": null,
      "outputs": []
    },
    {
      "cell_type": "code",
      "source": [
        "!python evalAnomaly.py --method 'VOID' --loadWeights 'bisenet_finetuned_after_pruning.pth' --loadModel 'bisenetv1.py' --input \"/content/Validation_Dataset/FS_LostFound_full/images/*.png\""
      ],
      "metadata": {
        "id": "qAGm9FBi_jKU"
      },
      "execution_count": null,
      "outputs": []
    },
    {
      "cell_type": "markdown",
      "source": [
        "* MSP"
      ],
      "metadata": {
        "id": "Gu6DtfwV_wLX"
      }
    },
    {
      "cell_type": "code",
      "source": [
        "!python evalAnomaly.py --method 'MSP' --loadWeights 'bisenet_finetuned_after_pruning.pth' --loadModel 'bisenetv1.py' --input \"/content/Validation_Dataset/RoadAnomaly21/images/*.png\""
      ],
      "metadata": {
        "id": "61NmSt0U_4lh"
      },
      "execution_count": null,
      "outputs": []
    },
    {
      "cell_type": "code",
      "source": [
        "!python evalAnomaly.py --method 'MSP' --loadWeights 'bisenet_finetuned_after_pruning.pth' --loadModel 'bisenetv1.py' --input \"/content/Validation_Dataset/RoadObsticle21/images/*.webp\""
      ],
      "metadata": {
        "id": "kub0Hl8C_9YG"
      },
      "execution_count": null,
      "outputs": []
    },
    {
      "cell_type": "code",
      "source": [
        "!python evalAnomaly.py --method 'MSP' --loadWeights 'bisenet_finetuned_after_pruning.pth' --loadModel 'bisenetv1.py' --input \"/content/Validation_Dataset/RoadAnomaly/images/*.jpg\""
      ],
      "metadata": {
        "id": "GSQubWk4_-4d"
      },
      "execution_count": null,
      "outputs": []
    },
    {
      "cell_type": "code",
      "source": [
        "!python evalAnomaly.py --method 'MSP' --loadWeights 'bisenet_finetuned_after_pruning.pth' --loadModel 'bisenetv1.py' --input \"/content/Validation_Dataset/fs_static/images/*.jpg\""
      ],
      "metadata": {
        "id": "jkqiAQ_fABz9"
      },
      "execution_count": null,
      "outputs": []
    },
    {
      "cell_type": "code",
      "source": [
        "!python evalAnomaly.py --method 'MSP' --loadWeights 'bisenet_finetuned_after_pruning.pth' --loadModel 'bisenetv1.py' --input \"/content/Validation_Dataset/FS_LostFound_full/images/*.png\""
      ],
      "metadata": {
        "id": "v3m93jaVABos"
      },
      "execution_count": null,
      "outputs": []
    },
    {
      "cell_type": "markdown",
      "source": [
        "* MaxLogit"
      ],
      "metadata": {
        "id": "RocktGyb_5NY"
      }
    },
    {
      "cell_type": "code",
      "source": [
        "!python evalAnomaly.py --method 'MaxLogit' --loadWeights 'bisenet_finetuned_after_pruning.pth' --loadModel 'bisenetv1.py' --input \"/content/Validation_Dataset/RoadAnomaly21/images/*.png\""
      ],
      "metadata": {
        "id": "VYCX0vsn_56j"
      },
      "execution_count": null,
      "outputs": []
    },
    {
      "cell_type": "code",
      "source": [
        "!python evalAnomaly.py --method 'MaxLogit' --loadWeights 'bisenet_finetuned_after_pruning.pth' --loadModel 'bisenetv1.py' --input \"/content/Validation_Dataset/RoadObsticle21/images/*.webp\""
      ],
      "metadata": {
        "id": "UwvMquANAGkH"
      },
      "execution_count": null,
      "outputs": []
    },
    {
      "cell_type": "code",
      "source": [
        "!python evalAnomaly.py --method 'MaxLogit' --loadWeights 'bisenet_finetuned_after_pruning.pth' --loadModel 'bisenetv1.py' --input \"/content/Validation_Dataset/RoadAnomaly/images/*.jpg\""
      ],
      "metadata": {
        "id": "DP8cZ-EdAHvX"
      },
      "execution_count": null,
      "outputs": []
    },
    {
      "cell_type": "code",
      "source": [
        "!python evalAnomaly.py --method 'MaxLogit' --loadWeights 'bisenet_finetuned_after_pruning.pth' --loadModel 'bisenetv1.py' --input \"/content/Validation_Dataset/fs_static/images/*.jpg\""
      ],
      "metadata": {
        "id": "F3RkaHHwAIu8"
      },
      "execution_count": null,
      "outputs": []
    },
    {
      "cell_type": "code",
      "source": [
        "!python evalAnomaly.py --method 'MaxLogit' --loadWeights 'bisenet_finetuned_after_pruning.pth' --loadModel 'bisenetv1.py' --input \"/content/Validation_Dataset/FS_LostFound_full/images/*.png\""
      ],
      "metadata": {
        "id": "gTLws6mHAKAt"
      },
      "execution_count": null,
      "outputs": []
    },
    {
      "cell_type": "markdown",
      "source": [
        "* MaxEntropy"
      ],
      "metadata": {
        "id": "uYHwjRFF_6UM"
      }
    },
    {
      "cell_type": "code",
      "source": [
        "!python evalAnomaly.py --method 'MaxEntropy' --loadWeights 'bisenet_finetuned_after_pruning.pth' --loadModel 'bisenetv1.py' --input \"/content/Validation_Dataset/RoadAnomaly21/images/*.png\""
      ],
      "metadata": {
        "id": "Eti5MfGL_7Nq"
      },
      "execution_count": null,
      "outputs": []
    },
    {
      "cell_type": "code",
      "source": [
        "!python evalAnomaly.py --method 'MaxEntropy' --loadWeights 'bisenet_finetuned_after_pruning.pth' --loadModel 'bisenetv1.py' --input \"/content/Validation_Dataset/RoadObsticle21/images/*.webp\""
      ],
      "metadata": {
        "id": "Sjh0pTXXANuA"
      },
      "execution_count": null,
      "outputs": []
    },
    {
      "cell_type": "code",
      "source": [
        "!python evalAnomaly.py --method 'MaxEntropy' --loadWeights 'bisenet_finetuned_after_pruning.pth' --loadModel 'bisenetv1.py' --input \"/content/Validation_Dataset/RoadAnomaly/images/*.jpg\""
      ],
      "metadata": {
        "id": "rsmhXrqMAPVM"
      },
      "execution_count": null,
      "outputs": []
    },
    {
      "cell_type": "code",
      "source": [
        "!python evalAnomaly.py --method 'MaxEntropy' --loadWeights 'bisenet_finetuned_after_pruning.pth' --loadModel 'bisenetv1.py' --input \"/content/Validation_Dataset/fs_static/images/*.jpg\""
      ],
      "metadata": {
        "id": "s9JaMD1MARP2"
      },
      "execution_count": null,
      "outputs": []
    },
    {
      "cell_type": "code",
      "source": [
        "!python evalAnomaly.py --method 'MaxEntropy' --loadWeights 'bisenet_finetuned_after_pruning.pth' --loadModel 'bisenetv1.py' --input \"/content/Validation_Dataset/FS_LostFound_full/images/*.png\""
      ],
      "metadata": {
        "id": "l-nH6D7XASQ9"
      },
      "execution_count": null,
      "outputs": []
    },
    {
      "cell_type": "markdown",
      "source": [
        "# Anomaly inferences on Channel-Based ERFNet Pruned"
      ],
      "metadata": {
        "id": "K9H6QQmIBsji"
      }
    },
    {
      "cell_type": "markdown",
      "source": [
        "* Void"
      ],
      "metadata": {
        "id": "e6bd3qPEE9DG"
      }
    },
    {
      "cell_type": "code",
      "source": [
        "!python evalAnomaly.py --method 'VOID' --loadWeights 'erfnet_pruned_all_2.pth' --loadModel 'channel_based_erfnet_pruned.py' --input \"/content/Validation_Dataset/RoadAnomaly21/images/*.png\""
      ],
      "metadata": {
        "id": "bN71iTqDBvXM"
      },
      "execution_count": null,
      "outputs": []
    },
    {
      "cell_type": "code",
      "source": [
        "!python evalAnomaly.py --method 'VOID' --loadWeights 'erfnet_pruned_all_2.pth' --loadModel 'channel_based_erfnet_pruned.py' --input \"/content/Validation_Dataset/RoadObsticle21/images/*.webp\""
      ],
      "metadata": {
        "id": "v8pO98zyFCNK"
      },
      "execution_count": null,
      "outputs": []
    },
    {
      "cell_type": "code",
      "source": [
        "!python evalAnomaly.py --method 'VOID' --loadWeights 'erfnet_pruned_all_2.pth' --loadModel 'channel_based_erfnet_pruned.py' --input \"/content/Validation_Dataset/RoadAnomaly/images/*.jpg\""
      ],
      "metadata": {
        "id": "ckTT3ef0FCfA"
      },
      "execution_count": null,
      "outputs": []
    },
    {
      "cell_type": "code",
      "source": [
        "!python evalAnomaly.py --method 'VOID' --loadWeights 'erfnet_pruned_all_2.pth' --loadModel 'channel_based_erfnet_pruned.py' --input \"/content/Validation_Dataset/fs_static/images/*.jpg\""
      ],
      "metadata": {
        "id": "mhRjFhBPFC1J"
      },
      "execution_count": null,
      "outputs": []
    },
    {
      "cell_type": "code",
      "source": [
        "!python evalAnomaly.py --method 'VOID' --loadWeights 'erfnet_pruned_all_2.pth' --loadModel 'channel_based_erfnet_pruned.py' --input \"/content/Validation_Dataset/FS_LostFound_full/images/*.png\""
      ],
      "metadata": {
        "id": "mQ6qBLuYFWPF"
      },
      "execution_count": null,
      "outputs": []
    },
    {
      "cell_type": "markdown",
      "source": [
        "* MSP"
      ],
      "metadata": {
        "id": "3vTpwk-qE-yW"
      }
    },
    {
      "cell_type": "code",
      "source": [
        "!python evalAnomaly.py --method 'MSP' --loadWeights 'erfnet_pruned_all_2.pth' --loadModel 'channel_based_erfnet_pruned.py' --input \"/content/Validation_Dataset/RoadAnomaly21/images/*.png\""
      ],
      "metadata": {
        "id": "NMCgtqLxE_KN"
      },
      "execution_count": null,
      "outputs": []
    },
    {
      "cell_type": "code",
      "source": [
        "!python evalAnomaly.py --method 'MSP' --loadWeights 'erfnet_pruned_all_2.pth' --loadModel 'channel_based_erfnet_pruned.py' --input \"/content/Validation_Dataset/RoadObsticle21/images/*.webp\""
      ],
      "metadata": {
        "id": "ZjH4VLAFFjYM"
      },
      "execution_count": null,
      "outputs": []
    },
    {
      "cell_type": "code",
      "source": [
        "!python evalAnomaly.py --method 'MSP' --loadWeights 'erfnet_pruned_all_2.pth' --loadModel 'channel_based_erfnet_pruned.py' --input \"/content/Validation_Dataset/RoadAnomaly/images/*.jpg\""
      ],
      "metadata": {
        "id": "xPGUQUdmFqqB"
      },
      "execution_count": null,
      "outputs": []
    },
    {
      "cell_type": "code",
      "source": [
        "!python evalAnomaly.py --method 'MSP' --loadWeights 'erfnet_pruned_all_2.pth' --loadModel 'channel_based_erfnet_pruned.py' --input \"/content/Validation_Dataset/fs_static/images/*.jpg\""
      ],
      "metadata": {
        "id": "UtsFmYWOF10C"
      },
      "execution_count": null,
      "outputs": []
    },
    {
      "cell_type": "code",
      "source": [
        "!python evalAnomaly.py --method 'MSP' --loadWeights 'erfnet_pruned_all_2.pth' --loadModel 'channel_based_erfnet_pruned.py' --input \"/content/Validation_Dataset/FS_LostFound_full/images/*.png\""
      ],
      "metadata": {
        "id": "1293TufWF4eo"
      },
      "execution_count": null,
      "outputs": []
    },
    {
      "cell_type": "markdown",
      "source": [
        "* MaxLogit"
      ],
      "metadata": {
        "id": "XdHGhv9lE_g7"
      }
    },
    {
      "cell_type": "code",
      "source": [
        "!python evalAnomaly.py --method 'MaxLogit' --loadWeights 'erfnet_pruned_all_2.pth' --loadModel 'channel_based_erfnet_pruned.py' --input \"/content/Validation_Dataset/RoadAnomaly21/images/*.png\""
      ],
      "metadata": {
        "id": "3zlAsWi5FAE_"
      },
      "execution_count": null,
      "outputs": []
    },
    {
      "cell_type": "code",
      "source": [
        "!python evalAnomaly.py --method 'MaxLogit' --loadWeights 'erfnet_pruned_all_2.pth' --loadModel 'channel_based_erfnet_pruned.py' --input \"/content/Validation_Dataset/RoadObsticle21/images/*.webp\""
      ],
      "metadata": {
        "id": "ohdG7EzmF9sC"
      },
      "execution_count": null,
      "outputs": []
    },
    {
      "cell_type": "code",
      "source": [
        "!python evalAnomaly.py --method 'MaxLogit' --loadWeights 'erfnet_pruned_all_2.pth' --loadModel 'channel_based_erfnet_pruned.py' --input \"/content/Validation_Dataset/RoadAnomaly/images/*.jpg\""
      ],
      "metadata": {
        "id": "QkPbKj7CGB0N"
      },
      "execution_count": null,
      "outputs": []
    },
    {
      "cell_type": "code",
      "source": [
        "!python evalAnomaly.py --method 'MaxLogit' --loadWeights 'erfnet_pruned_all_2.pth' --loadModel 'channel_based_erfnet_pruned.py' --input \"/content/Validation_Dataset/fs_static/images/*.jpg\""
      ],
      "metadata": {
        "id": "P22-mXIjGErI"
      },
      "execution_count": null,
      "outputs": []
    },
    {
      "cell_type": "code",
      "source": [
        "!python evalAnomaly.py --method 'MaxLogit' --loadWeights 'erfnet_pruned_all_2.pth' --loadModel 'channel_based_erfnet_pruned.py' --input \"/content/Validation_Dataset/FS_LostFound_full/images/*.png\""
      ],
      "metadata": {
        "id": "fUwe0WIRGHym"
      },
      "execution_count": null,
      "outputs": []
    },
    {
      "cell_type": "markdown",
      "source": [
        "* MaxEntropy"
      ],
      "metadata": {
        "id": "VA1f2L-SFAe7"
      }
    },
    {
      "cell_type": "code",
      "source": [
        "!python evalAnomaly.py --method 'MaxEntropy' --loadWeights 'erfnet_pruned_all_2.pth' --loadModel 'channel_based_erfnet_pruned.py' --input \"/content/Validation_Dataset/RoadAnomaly21/images/*.png\""
      ],
      "metadata": {
        "id": "7sMvctf0FBXD"
      },
      "execution_count": null,
      "outputs": []
    },
    {
      "cell_type": "code",
      "source": [
        "!python evalAnomaly.py --method 'MaxEntropy' --loadWeights 'erfnet_pruned_all_2.pth' --loadModel 'channel_based_erfnet_pruned.py' --input \"/content/Validation_Dataset/RoadObsticle21/images/*.webp\""
      ],
      "metadata": {
        "id": "s8fC1IsTGV4I"
      },
      "execution_count": null,
      "outputs": []
    },
    {
      "cell_type": "code",
      "source": [
        "!python evalAnomaly.py --method 'MaxEntropy' --loadWeights 'erfnet_pruned_all_2.pth' --loadModel 'channel_based_erfnet_pruned.py' --input \"/content/Validation_Dataset/RoadAnomaly/images/*.jpg\""
      ],
      "metadata": {
        "id": "e5qFXBrIGYTV"
      },
      "execution_count": null,
      "outputs": []
    },
    {
      "cell_type": "code",
      "source": [
        "!python evalAnomaly.py --method 'MaxEntropy' --loadWeights 'erfnet_pruned_all_2.pth' --loadModel 'channel_based_erfnet_pruned.py' --input \"/content/Validation_Dataset/fs_static/images/*.jpg\""
      ],
      "metadata": {
        "id": "QRP2A-D2Gdiu"
      },
      "execution_count": null,
      "outputs": []
    },
    {
      "cell_type": "code",
      "source": [
        "!python evalAnomaly.py --method 'MaxEntropy' --loadWeights 'erfnet_pruned_all_2.pth' --loadModel 'channel_based_erfnet_pruned.py' --input \"/content/Validation_Dataset/FS_LostFound_full/images/*.png\""
      ],
      "metadata": {
        "id": "6kqnOSLGGfp4"
      },
      "execution_count": null,
      "outputs": []
    },
    {
      "cell_type": "markdown",
      "source": [
        "# Anomaly  inferences on original Bisenet"
      ],
      "metadata": {
        "id": "UK7XrjaVS6xr"
      }
    },
    {
      "cell_type": "markdown",
      "source": [
        "* MSP"
      ],
      "metadata": {
        "id": "1yZhbjE9TQts"
      }
    },
    {
      "cell_type": "code",
      "source": [
        "!python evalAnomaly.py --method 'MSP' --loadWeights 'bisenet_finetuned_after_pruning.pth' --loadModel 'bisenetv1.py' --input \"/content/Validation_Dataset/RoadAnomaly21/images/*.png\""
      ],
      "metadata": {
        "id": "B__BeJ9-TB5z"
      },
      "execution_count": null,
      "outputs": []
    },
    {
      "cell_type": "code",
      "source": [
        "!python evalAnomaly.py --method 'MSP' --loadWeights 'bisenet_finetuned_after_pruning.pth' --loadModel 'bisenetv1.py' --input \"/content/Validation_Dataset/RoadObsticle21/images/*.webp\""
      ],
      "metadata": {
        "id": "l6DzOUKGTsbG"
      },
      "execution_count": null,
      "outputs": []
    },
    {
      "cell_type": "code",
      "source": [
        "!python evalAnomaly.py --method 'MSP' --loadWeights 'bisenet_finetuned_after_pruning.pth' --loadModel 'bisenetv1.py' --input \"/content/Validation_Dataset/RoadAnomaly/images/*.jpg\""
      ],
      "metadata": {
        "id": "_RbxOt7gTxGz"
      },
      "execution_count": null,
      "outputs": []
    },
    {
      "cell_type": "code",
      "source": [
        "!python evalAnomaly.py --method 'MSP' --loadWeights 'bisenet_finetuned_after_pruning.pth' --loadModel 'bisenetv1.py' --input \"/content/Validation_Dataset/fs_static/images/*.jpg\""
      ],
      "metadata": {
        "id": "FhMuma_kT1H2"
      },
      "execution_count": null,
      "outputs": []
    },
    {
      "cell_type": "code",
      "source": [
        "!python evalAnomaly.py --method 'MSP' --loadWeights 'bisenet_finetuned_after_pruning.pth' --loadModel 'bisenetv1.py' --input \"/content/Validation_Dataset/FS_LostFound_full/images/*.png\""
      ],
      "metadata": {
        "id": "jPAasONxT4yu"
      },
      "execution_count": null,
      "outputs": []
    },
    {
      "cell_type": "markdown",
      "source": [
        "* MaxLogit"
      ],
      "metadata": {
        "id": "6ITmfRr6TTxx"
      }
    },
    {
      "cell_type": "code",
      "source": [
        "!python evalAnomaly.py --method 'MaxLogit' --loadWeights 'bisenet_finetuned_after_pruning.pth' --loadModel 'bisenetv1.py' --input \"/content/Validation_Dataset/RoadAnomaly21/images/*.png\""
      ],
      "metadata": {
        "id": "rQ4AF_frT9xu"
      },
      "execution_count": null,
      "outputs": []
    },
    {
      "cell_type": "code",
      "source": [
        "!python evalAnomaly.py --method 'MaxLogit' --loadWeights 'bisenet_finetuned_after_pruning.pth' --loadModel 'bisenetv1.py' --input \"/content/Validation_Dataset/RoadObsticle21/images/*.webp\""
      ],
      "metadata": {
        "id": "QcPa9z82UBmh"
      },
      "execution_count": null,
      "outputs": []
    },
    {
      "cell_type": "code",
      "source": [
        "!python evalAnomaly.py --method 'MaxLogit' --loadWeights 'bisenet_finetuned_after_pruning.pth' --loadModel 'bisenetv1.py' --input \"/content/Validation_Dataset/RoadAnomaly/images/*.jpg\""
      ],
      "metadata": {
        "id": "0CqL2NRRUE0c"
      },
      "execution_count": null,
      "outputs": []
    },
    {
      "cell_type": "code",
      "source": [
        "!python evalAnomaly.py --method 'MaxLogit' --loadWeights 'bisenet_finetuned_after_pruning.pth' --loadModel 'bisenetv1.py' --input \"/content/Validation_Dataset/fs_static/images/*.jpg\""
      ],
      "metadata": {
        "id": "I7HlsVlsUEws"
      },
      "execution_count": null,
      "outputs": []
    },
    {
      "cell_type": "code",
      "source": [
        "!python evalAnomaly.py --method 'MaxLogit' --loadWeights 'bisenet_finetuned_after_pruning.pth' --loadModel 'bisenetv1.py' --input \"/content/Validation_Dataset/FS_LostFound_full/images/*.png\""
      ],
      "metadata": {
        "id": "nGvgVmxrUL6E"
      },
      "execution_count": null,
      "outputs": []
    },
    {
      "cell_type": "markdown",
      "source": [
        "* MaxEntropy"
      ],
      "metadata": {
        "id": "_3hZb6BgTVYp"
      }
    },
    {
      "cell_type": "code",
      "source": [
        "!python evalAnomaly.py --method 'MaxEntropy' --loadWeights 'bisenet_finetuned_after_pruning.pth' --loadModel 'bisenetv1.py' --input \"/content/Validation_Dataset/RoadAnomaly21/images/*.png\""
      ],
      "metadata": {
        "id": "QZ3xAfffTWVe"
      },
      "execution_count": null,
      "outputs": []
    },
    {
      "cell_type": "code",
      "source": [
        "!python evalAnomaly.py --method 'MaxEntropy' --loadWeights 'bisenet_finetuned_after_pruning.pth' --loadModel 'bisenetv1.py' --input \"/content/Validation_Dataset/RoadObsticle21/images/*.webp\""
      ],
      "metadata": {
        "id": "Wnfh2yz1UTX3"
      },
      "execution_count": null,
      "outputs": []
    },
    {
      "cell_type": "code",
      "source": [
        "!python evalAnomaly.py --method 'MaxEntropy' --loadWeights 'bisenet_finetuned_after_pruning.pth' --loadModel 'bisenetv1.py' --input \"/content/Validation_Dataset/RoadAnomaly/images/*.jpg\""
      ],
      "metadata": {
        "id": "Ui1QRTgoUWut"
      },
      "execution_count": null,
      "outputs": []
    },
    {
      "cell_type": "code",
      "source": [
        "!python evalAnomaly.py --method 'MaxEntropy' --loadWeights 'bisenet_finetuned_after_pruning.pth' --loadModel 'bisenetv1.py' --input \"/content/Validation_Dataset/fs_static/images/*.jpg\""
      ],
      "metadata": {
        "id": "VLcjy4-zUaAL"
      },
      "execution_count": null,
      "outputs": []
    },
    {
      "cell_type": "code",
      "source": [
        "!python evalAnomaly.py --method 'MaxEntropy' --loadWeights 'bisenet_finetuned_after_pruning.pth' --loadModel 'bisenetv1.py' --input \"/content/Validation_Dataset/FS_LostFound_full/images/*.png\""
      ],
      "metadata": {
        "id": "joiaFfIEUdFy"
      },
      "execution_count": null,
      "outputs": []
    }
  ],
  "metadata": {
    "colab": {
      "provenance": []
    },
    "kernelspec": {
      "display_name": "Python 3",
      "name": "python3"
    },
    "language_info": {
      "name": "python"
    }
  },
  "nbformat": 4,
  "nbformat_minor": 0
}